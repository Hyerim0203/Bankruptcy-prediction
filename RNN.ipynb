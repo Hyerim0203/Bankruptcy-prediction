{
 "cells": [
  {
   "cell_type": "code",
   "execution_count": 2,
   "metadata": {},
   "outputs": [],
   "source": [
    "import matplotlib.pyplot as plt\n",
    "import seaborn as sns\n",
    "\n",
    "import tensorflow as tf\n",
    "from tensorflow import keras\n",
    "\n",
    "import numpy as np\n",
    "import pandas as pd"
   ]
  },
  {
   "cell_type": "code",
   "execution_count": 3,
   "metadata": {},
   "outputs": [],
   "source": [
    "train_sero = pd.read_csv(\"./train_sero.csv\")\n",
    "company_start_year = pd.read_csv(\"./company_start_year.csv\")\n",
    "y = pd.read_csv(\"./y.csv\")\n",
    "X = pd.read_csv(\"./2year.csv\")"
   ]
  },
  {
   "cell_type": "code",
   "execution_count": 38,
   "metadata": {},
   "outputs": [],
   "source": [
    "sero_data = pd.read_csv(\"./data/sero_data.csv\")"
   ]
  },
  {
   "cell_type": "code",
   "execution_count": 6,
   "metadata": {
    "scrolled": true
   },
   "outputs": [
    {
     "name": "stderr",
     "output_type": "stream",
     "text": [
      "C:\\ProgramData\\Anaconda3\\lib\\site-packages\\IPython\\core\\interactiveshell.py:3071: DtypeWarning: Columns (97,98,99,100,101,102,103,104,105,106,107) have mixed types.Specify dtype option on import or set low_memory=False.\n",
      "  has_raised = await self.run_ast_nodes(code_ast.body, cell_name,\n"
     ]
    }
   ],
   "source": [
    "data = pd.read_csv(\"All.csv\")"
   ]
  },
  {
   "cell_type": "markdown",
   "metadata": {},
   "source": [
    "## 전처리"
   ]
  },
  {
   "cell_type": "code",
   "execution_count": 94,
   "metadata": {},
   "outputs": [],
   "source": [
    "def rnn_data_preprocessing(X, y):\n",
    "    x = X[:]\n",
    "    # feature로 사용하지 않을 feature 제거\n",
    "    for i in x.columns:\n",
    "        if (\"year\" == i.split(\"_\")[0]) or (\"Id\" == i.split(\"_\")[0]):\n",
    "            x.drop([i], axis=1, inplace=True)\n",
    "            \n",
    "    # 범주형 변수 -> one-hot encoding\n",
    "    # ao, ms, cs\n",
    "    label_columns = [\"AO\",\"MS\",\"CS\"]\n",
    "    del_columns = []\n",
    "    x_First = True\n",
    "    y_First = True\n",
    "    for i in label_columns:\n",
    "        for j in x.columns:\n",
    "            if i == j.split(\"_\")[0]:\n",
    "                del_columns.append(j)\n",
    "                if x_First:\n",
    "                    a = pd.get_dummies(x[j])\n",
    "                    x_First = False\n",
    "                elif y_First:\n",
    "                    b = pd.get_dummies(x[j])\n",
    "                    y_First = False\n",
    "                elif \"x\" == j.split(\"_\")[1]:\n",
    "                    a = pd.concat([a,pd.get_dummies(x[j])], axis=1)\n",
    "                elif \"y\" == j.split(\"_\")[1]:\n",
    "                    b = pd.concat([b,pd.get_dummies(x[j])], axis=1)\n",
    "    x = pd.concat([a,x], axis=1)\n",
    "    x = pd.concat([x,b], axis=1)\n",
    "    print(del_columns)\n",
    "    x.drop(del_columns, axis=1, inplace=True) \n",
    "    \n",
    "    \n",
    "    # 전년도 신용도와 현년도 신용도를 합침\n",
    "    y = y.reset_index()\n",
    "    y = pd.concat([x[\"CR_y\"],y[\"CR\"]], axis=1)\n",
    "    \n",
    "    # 부도와 부도가 아닌 것으로 분류\n",
    "    y[y!=0]=1\n",
    "\n",
    "    return x, y"
   ]
  },
  {
   "cell_type": "code",
   "execution_count": 96,
   "metadata": {
    "scrolled": false
   },
   "outputs": [
    {
     "name": "stdout",
     "output_type": "stream",
     "text": [
      "['AO_x', 'AO_y', 'MS_x', 'MS_y', 'CS_x', 'CS_y']\n"
     ]
    }
   ],
   "source": [
    "X_data, y_data = rnn_data_preprocessing(X,y[2191*2:])"
   ]
  },
  {
   "cell_type": "code",
   "execution_count": 97,
   "metadata": {},
   "outputs": [],
   "source": [
    "from sklearn.model_selection import train_test_split\n",
    "X_train, X_valid, y_train, y_valid = train_test_split(X_data,y_data,\n",
    "                                                   random_state = 1)"
   ]
  },
  {
   "cell_type": "markdown",
   "metadata": {},
   "source": [
    "### 표준화"
   ]
  },
  {
   "cell_type": "code",
   "execution_count": 98,
   "metadata": {},
   "outputs": [],
   "source": [
    "# normalization\n",
    "from sklearn.preprocessing import StandardScaler, MinMaxScaler"
   ]
  },
  {
   "cell_type": "code",
   "execution_count": 99,
   "metadata": {},
   "outputs": [],
   "source": [
    "# 표준화\n",
    "scaler = MinMaxScaler().fit(X_train)\n",
    "\n",
    "X_train = scaler.transform(X_train)\n",
    "X_valid = scaler.transform(X_valid)"
   ]
  },
  {
   "cell_type": "code",
   "execution_count": 101,
   "metadata": {},
   "outputs": [],
   "source": [
    "# RNN 데이터 차원에 맞도록 조정\n",
    "X_train = X_train.reshape(X_train.shape[0],2,X_train.shape[1]//2)\n",
    "X_valid = X_valid.reshape(X_valid.shape[0],2,X_valid.shape[1]//2)"
   ]
  },
  {
   "cell_type": "markdown",
   "metadata": {},
   "source": [
    "## 모델 생성"
   ]
  },
  {
   "cell_type": "markdown",
   "metadata": {},
   "source": [
    "- class weight -> 0:0.2, 1:0.8 로 해줌으로써 불균형 데이터 해소"
   ]
  },
  {
   "cell_type": "code",
   "execution_count": 191,
   "metadata": {},
   "outputs": [],
   "source": [
    "import os\n",
    "root_logdir = os.path.join(os.curdir, \"tensorboard\")\n",
    "\n",
    "# 루트 로그 디렉터리와 현재 날짜와 시간을 이용한 서브 디렉터리 생성하는 함수\n",
    "def get_run_logdir():\n",
    "    import time\n",
    "    run_id = time.strftime(\"run_%Y_%m_%d-%H_%M_%S\")\n",
    "    return os.path.join(root_logdir, run_id) # 디렉토리 주소를 반환\n",
    "\n",
    "run_logdir = get_run_logdir() # 새로 그래프를 생성하려고 할 때마다 이 것을 실행해 주어야 함 \n",
    "\n",
    "tensorboard_cb = keras.callbacks.TensorBoard(run_logdir)\n",
    "checkpoint_cb = keras.callbacks.ModelCheckpoint(\"rnn_best_model.h5\",\n",
    "                                               save_best_only = True)"
   ]
  },
  {
   "cell_type": "code",
   "execution_count": 192,
   "metadata": {},
   "outputs": [],
   "source": [
    "model = keras.models.Sequential([\n",
    "    keras.layers.SimpleRNN(256, activation = \"tanh\",return_sequences = True, input_shape =[None,43]),\n",
    "    keras.layers.SimpleRNN(256, activation = \"tanh\",return_sequences = True),\n",
    "    keras.layers.Dense(1, activation = \"sigmoid\")\n",
    "])"
   ]
  },
  {
   "cell_type": "code",
   "execution_count": 193,
   "metadata": {},
   "outputs": [],
   "source": [
    "model.compile(loss=\"binary_crossentropy\", optimizer = keras.optimizers.Adam(lr=1e-5),\n",
    "             metrics = \"accuracy\")"
   ]
  },
  {
   "cell_type": "code",
   "execution_count": 194,
   "metadata": {},
   "outputs": [],
   "source": [
    "X_train = X_train.reshape(X_train.shape[0],2,43)\n",
    "X_valid = X_valid.reshape(X_valid.shape[0],2,43)"
   ]
  },
  {
   "cell_type": "code",
   "execution_count": 195,
   "metadata": {},
   "outputs": [
    {
     "name": "stdout",
     "output_type": "stream",
     "text": [
      "Epoch 1/50\n",
      "  2/873 [..............................] - ETA: 26:20 - loss: 0.4279 - accuracy: 0.8828WARNING:tensorflow:Callbacks method `on_train_batch_end` is slow compared to the batch time (batch time: 0.0130s vs `on_train_batch_end` time: 3.6040s). Check your callbacks.\n",
      "873/873 [==============================] - 10s 11ms/step - loss: 0.1839 - accuracy: 0.8824 - val_loss: 0.1709 - val_accuracy: 0.9161\n",
      "Epoch 2/50\n",
      "873/873 [==============================] - 5s 6ms/step - loss: 0.0808 - accuracy: 0.9562 - val_loss: 0.1202 - val_accuracy: 0.9635\n",
      "Epoch 3/50\n",
      "873/873 [==============================] - 5s 5ms/step - loss: 0.0554 - accuracy: 0.9657 - val_loss: 0.1091 - val_accuracy: 0.9669\n",
      "Epoch 4/50\n",
      "873/873 [==============================] - 5s 6ms/step - loss: 0.0457 - accuracy: 0.9700 - val_loss: 0.1052 - val_accuracy: 0.9702\n",
      "Epoch 5/50\n",
      "873/873 [==============================] - 5s 5ms/step - loss: 0.0405 - accuracy: 0.9720 - val_loss: 0.1032 - val_accuracy: 0.9714\n",
      "Epoch 6/50\n",
      "873/873 [==============================] - 5s 6ms/step - loss: 0.0372 - accuracy: 0.9734 - val_loss: 0.1012 - val_accuracy: 0.9730\n",
      "Epoch 7/50\n",
      "873/873 [==============================] - 5s 5ms/step - loss: 0.0350 - accuracy: 0.9741 - val_loss: 0.1011 - val_accuracy: 0.9741\n",
      "Epoch 8/50\n",
      "873/873 [==============================] - 5s 6ms/step - loss: 0.0336 - accuracy: 0.9743 - val_loss: 0.1019 - val_accuracy: 0.9741\n",
      "Epoch 9/50\n",
      "873/873 [==============================] - 5s 6ms/step - loss: 0.0326 - accuracy: 0.9743 - val_loss: 0.1016 - val_accuracy: 0.9748\n",
      "Epoch 10/50\n",
      "873/873 [==============================] - 6s 6ms/step - loss: 0.0319 - accuracy: 0.9748 - val_loss: 0.1022 - val_accuracy: 0.9748\n",
      "Epoch 11/50\n",
      "873/873 [==============================] - 5s 6ms/step - loss: 0.0315 - accuracy: 0.9750 - val_loss: 0.1009 - val_accuracy: 0.9749\n",
      "Epoch 12/50\n",
      "873/873 [==============================] - 6s 7ms/step - loss: 0.0310 - accuracy: 0.9751 - val_loss: 0.0990 - val_accuracy: 0.9750\n",
      "Epoch 13/50\n",
      "873/873 [==============================] - 5s 6ms/step - loss: 0.0307 - accuracy: 0.9751 - val_loss: 0.0996 - val_accuracy: 0.9750\n",
      "Epoch 14/50\n",
      "873/873 [==============================] - 6s 6ms/step - loss: 0.0304 - accuracy: 0.9752 - val_loss: 0.0978 - val_accuracy: 0.9752\n",
      "Epoch 15/50\n",
      "873/873 [==============================] - 5s 6ms/step - loss: 0.0302 - accuracy: 0.9752 - val_loss: 0.0981 - val_accuracy: 0.9753\n",
      "Epoch 16/50\n",
      "873/873 [==============================] - 5s 6ms/step - loss: 0.0300 - accuracy: 0.9754 - val_loss: 0.0975 - val_accuracy: 0.9751\n",
      "Epoch 17/50\n",
      "873/873 [==============================] - 6s 6ms/step - loss: 0.0298 - accuracy: 0.9753 - val_loss: 0.1012 - val_accuracy: 0.9751\n",
      "Epoch 18/50\n",
      "873/873 [==============================] - 6s 7ms/step - loss: 0.0297 - accuracy: 0.9754 - val_loss: 0.0988 - val_accuracy: 0.9752\n",
      "Epoch 19/50\n",
      "873/873 [==============================] - 6s 7ms/step - loss: 0.0295 - accuracy: 0.9753 - val_loss: 0.1000 - val_accuracy: 0.9755\n",
      "Epoch 20/50\n",
      "873/873 [==============================] - 6s 7ms/step - loss: 0.0295 - accuracy: 0.9755 - val_loss: 0.0985 - val_accuracy: 0.9751\n",
      "Epoch 21/50\n",
      "873/873 [==============================] - 6s 6ms/step - loss: 0.0293 - accuracy: 0.9755 - val_loss: 0.0990 - val_accuracy: 0.9753\n",
      "Epoch 22/50\n",
      "873/873 [==============================] - 5s 6ms/step - loss: 0.0292 - accuracy: 0.9755 - val_loss: 0.0988 - val_accuracy: 0.9755\n",
      "Epoch 23/50\n",
      "873/873 [==============================] - 5s 6ms/step - loss: 0.0292 - accuracy: 0.9755 - val_loss: 0.0985 - val_accuracy: 0.9754\n",
      "Epoch 24/50\n",
      "873/873 [==============================] - 6s 7ms/step - loss: 0.0290 - accuracy: 0.9754 - val_loss: 0.1005 - val_accuracy: 0.9755\n",
      "Epoch 25/50\n",
      "873/873 [==============================] - 6s 7ms/step - loss: 0.0290 - accuracy: 0.9755 - val_loss: 0.0970 - val_accuracy: 0.9755\n",
      "Epoch 26/50\n",
      "873/873 [==============================] - 6s 7ms/step - loss: 0.0289 - accuracy: 0.9756 - val_loss: 0.0973 - val_accuracy: 0.9755\n",
      "Epoch 27/50\n",
      "873/873 [==============================] - 6s 6ms/step - loss: 0.0288 - accuracy: 0.9756 - val_loss: 0.0960 - val_accuracy: 0.9753\n",
      "Epoch 28/50\n",
      "873/873 [==============================] - 6s 6ms/step - loss: 0.0287 - accuracy: 0.9756 - val_loss: 0.0976 - val_accuracy: 0.9754\n",
      "Epoch 29/50\n",
      "873/873 [==============================] - 5s 6ms/step - loss: 0.0286 - accuracy: 0.9756 - val_loss: 0.0983 - val_accuracy: 0.9757\n",
      "Epoch 30/50\n",
      "873/873 [==============================] - 6s 6ms/step - loss: 0.0286 - accuracy: 0.9758 - val_loss: 0.0973 - val_accuracy: 0.9755\n",
      "Epoch 31/50\n",
      "873/873 [==============================] - 5s 6ms/step - loss: 0.0285 - accuracy: 0.9757 - val_loss: 0.0974 - val_accuracy: 0.9755\n",
      "Epoch 32/50\n",
      "873/873 [==============================] - 6s 6ms/step - loss: 0.0284 - accuracy: 0.9757 - val_loss: 0.0965 - val_accuracy: 0.9756\n",
      "Epoch 33/50\n",
      "873/873 [==============================] - 6s 7ms/step - loss: 0.0283 - accuracy: 0.9758 - val_loss: 0.0982 - val_accuracy: 0.9756\n",
      "Epoch 34/50\n",
      "873/873 [==============================] - 5s 6ms/step - loss: 0.0283 - accuracy: 0.9757 - val_loss: 0.0972 - val_accuracy: 0.9755\n",
      "Epoch 35/50\n",
      "873/873 [==============================] - 5s 6ms/step - loss: 0.0282 - accuracy: 0.9757 - val_loss: 0.0953 - val_accuracy: 0.9754\n",
      "Epoch 36/50\n",
      "873/873 [==============================] - 5s 6ms/step - loss: 0.0281 - accuracy: 0.9757 - val_loss: 0.0952 - val_accuracy: 0.9755\n",
      "Epoch 37/50\n",
      "873/873 [==============================] - 5s 6ms/step - loss: 0.0281 - accuracy: 0.9758 - val_loss: 0.0944 - val_accuracy: 0.9756\n",
      "Epoch 38/50\n",
      "873/873 [==============================] - 6s 7ms/step - loss: 0.0280 - accuracy: 0.9757 - val_loss: 0.0943 - val_accuracy: 0.9757\n",
      "Epoch 39/50\n",
      "873/873 [==============================] - 6s 6ms/step - loss: 0.0280 - accuracy: 0.9759 - val_loss: 0.0940 - val_accuracy: 0.9755\n",
      "Epoch 40/50\n",
      "873/873 [==============================] - 6s 7ms/step - loss: 0.0279 - accuracy: 0.9757 - val_loss: 0.0951 - val_accuracy: 0.9756\n",
      "Epoch 41/50\n",
      "873/873 [==============================] - 5s 6ms/step - loss: 0.0279 - accuracy: 0.9757 - val_loss: 0.0928 - val_accuracy: 0.9758\n",
      "Epoch 42/50\n",
      "873/873 [==============================] - 5s 6ms/step - loss: 0.0278 - accuracy: 0.9758 - val_loss: 0.0950 - val_accuracy: 0.9757\n",
      "Epoch 43/50\n",
      "873/873 [==============================] - 5s 6ms/step - loss: 0.0277 - accuracy: 0.9758 - val_loss: 0.0940 - val_accuracy: 0.9758\n",
      "Epoch 44/50\n",
      "873/873 [==============================] - 5s 6ms/step - loss: 0.0277 - accuracy: 0.9759 - val_loss: 0.0945 - val_accuracy: 0.9754\n",
      "Epoch 45/50\n",
      "873/873 [==============================] - 5s 6ms/step - loss: 0.0276 - accuracy: 0.9759 - val_loss: 0.0937 - val_accuracy: 0.9753\n",
      "Epoch 46/50\n",
      "873/873 [==============================] - 6s 6ms/step - loss: 0.0276 - accuracy: 0.9758 - val_loss: 0.0944 - val_accuracy: 0.9756\n",
      "Epoch 47/50\n",
      "873/873 [==============================] - 5s 6ms/step - loss: 0.0275 - accuracy: 0.9758 - val_loss: 0.0970 - val_accuracy: 0.9757\n",
      "Epoch 48/50\n",
      "873/873 [==============================] - 5s 6ms/step - loss: 0.0275 - accuracy: 0.9759 - val_loss: 0.0977 - val_accuracy: 0.9757\n",
      "Epoch 49/50\n",
      "873/873 [==============================] - 6s 6ms/step - loss: 0.0274 - accuracy: 0.9758 - val_loss: 0.0936 - val_accuracy: 0.9759\n",
      "Epoch 50/50\n",
      "873/873 [==============================] - 5s 6ms/step - loss: 0.0274 - accuracy: 0.9759 - val_loss: 0.0938 - val_accuracy: 0.9757\n"
     ]
    }
   ],
   "source": [
    "history = model.fit(x=X_train,y=y_train.astype(\"int\"), epochs = 50, \n",
    "                    validation_data = (X_valid,y_valid.astype(\"int\")), class_weight = {0:0.8, 1:0.2},\n",
    "                   callbacks = [tensorboard_cb, checkpoint_cb])"
   ]
  },
  {
   "cell_type": "code",
   "execution_count": 196,
   "metadata": {
    "scrolled": true
   },
   "outputs": [
    {
     "data": {
      "image/png": "[encoded data removed]",
      "text/plain": [
       "<Figure size 576x360 with 1 Axes>"
      ]
     },
     "metadata": {
      "needs_background": "light"
     },
     "output_type": "display_data"
    }
   ],
   "source": [
    "# 에포크가 끝날 때 마다의 train, valid set의 loss, 평가 지표\n",
    "pd.DataFrame(history.history).plot(figsize = (8,5))\n",
    "plt.grid(True) # grid를 생성\n",
    "#plt.gca().set_ylim(0,1) # 수직출의 범위를 0~1 사이로 설정\n",
    "plt.show()"
   ]
  },
  {
   "cell_type": "markdown",
   "metadata": {},
   "source": [
    "## 모델 평가"
   ]
  },
  {
   "cell_type": "code",
   "execution_count": 185,
   "metadata": {},
   "outputs": [],
   "source": [
    "model = keras.models.load_model(\"rnn_best_model.h5\")"
   ]
  },
  {
   "cell_type": "code",
   "execution_count": 186,
   "metadata": {
    "scrolled": true
   },
   "outputs": [
    {
     "name": "stdout",
     "output_type": "stream",
     "text": [
      "291/291 [==============================] - 1s 2ms/step - loss: 0.0868 - accuracy: 0.9766\n"
     ]
    },
    {
     "data": {
      "text/plain": [
       "[0.08682124316692352, 0.9765893220901489]"
      ]
     },
     "execution_count": 186,
     "metadata": {},
     "output_type": "execute_result"
    }
   ],
   "source": [
    "model.evaluate(X_valid,y_valid)"
   ]
  },
  {
   "cell_type": "code",
   "execution_count": 187,
   "metadata": {},
   "outputs": [],
   "source": [
    "from sklearn.metrics import confusion_matrix, roc_auc_score, f1_score, recall_score, precision_score, accuracy_score"
   ]
  },
  {
   "cell_type": "code",
   "execution_count": 188,
   "metadata": {},
   "outputs": [
    {
     "name": "stdout",
     "output_type": "stream",
     "text": [
      "accuracy score : 0.9764819587628866\n",
      "precision score : 0.9966887417218543\n",
      "recall_score : 0.9759321611173463\n",
      "confusion matrix : \n",
      " [[1267   26]\n",
      " [ 193 7826]]\n",
      "roc-auc score : 0.9779119428943267\n"
     ]
    }
   ],
   "source": [
    "predicted = model.predict_classes(X_valid)[:,1].flatten()\n",
    "target = y_valid[\"CR\"]\n",
    "print(f\"accuracy score : {accuracy_score(target, predicted)}\")\n",
    "print(f\"precision score : {precision_score(target,predicted)}\")\n",
    "print(f\"recall_score : {recall_score(target, predicted)}\")\n",
    "print(f\"confusion matrix : \\n {confusion_matrix(target, predicted)}\")\n",
    "print(f\"roc-auc score : {roc_auc_score(target, predicted)}\")"
   ]
  }
 ],
 "metadata": {
  "kernelspec": {
   "display_name": "Python 3",
   "language": "python",
   "name": "python3"
  },
  "language_info": {
   "codemirror_mode": {
    "name": "ipython",
    "version": 3
   },
   "file_extension": ".py",
   "mimetype": "text/x-python",
   "name": "python",
   "nbconvert_exporter": "python",
   "pygments_lexer": "ipython3",
   "version": "3.8.3"
  }
 },
 "nbformat": 4,
 "nbformat_minor": 4
}
