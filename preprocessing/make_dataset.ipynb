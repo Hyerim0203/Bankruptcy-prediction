{
 "cells": [
  {
   "cell_type": "code",
   "execution_count": 1,
   "metadata": {},
   "outputs": [],
   "source": [
    "import matplotlib.pyplot as plt\n",
    "import seaborn as sns\n",
    "\n",
    "import tensorflow as tf\n",
    "from tensorflow import keras\n",
    "\n",
    "import numpy as np\n",
    "import pandas as pd"
   ]
  },
  {
   "cell_type": "code",
   "execution_count": 26,
   "metadata": {},
   "outputs": [],
   "source": [
    "train_sero = pd.read_csv(\"./train_sero.csv\")\n",
    "company_start_year = pd.read_csv(\"./company_start_year.csv\")\n",
    "y = pd.read_csv(\"./y.csv\")\n",
    "X = pd.read_csv(\"./2year.csv\")"
   ]
  },
  {
   "cell_type": "code",
   "execution_count": 197,
   "metadata": {},
   "outputs": [],
   "source": [
    "all_data = pd.read_csv(\"./y.csv\")"
   ]
  },
  {
   "cell_type": "code",
   "execution_count": 38,
   "metadata": {},
   "outputs": [],
   "source": [
    "sero_data = pd.read_csv(\"./data/sero_data.csv\")"
   ]
  },
  {
   "cell_type": "code",
   "execution_count": 159,
   "metadata": {},
   "outputs": [
    {
     "data": {
      "text/html": [
       "<div>\n",
       "<style scoped>\n",
       "    .dataframe tbody tr th:only-of-type {\n",
       "        vertical-align: middle;\n",
       "    }\n",
       "\n",
       "    .dataframe tbody tr th {\n",
       "        vertical-align: top;\n",
       "    }\n",
       "\n",
       "    .dataframe thead th {\n",
       "        text-align: right;\n",
       "    }\n",
       "</style>\n",
       "<table border=\"1\" class=\"dataframe\">\n",
       "  <thead>\n",
       "    <tr style=\"text-align: right;\">\n",
       "      <th></th>\n",
       "      <th>Id</th>\n",
       "      <th>year</th>\n",
       "      <th>CR</th>\n",
       "      <th>bool</th>\n",
       "    </tr>\n",
       "  </thead>\n",
       "  <tbody>\n",
       "    <tr>\n",
       "      <th>0</th>\n",
       "      <td>0</td>\n",
       "      <td>2000</td>\n",
       "      <td>7.0</td>\n",
       "      <td>False</td>\n",
       "    </tr>\n",
       "    <tr>\n",
       "      <th>1</th>\n",
       "      <td>1</td>\n",
       "      <td>2000</td>\n",
       "      <td>7.0</td>\n",
       "      <td>False</td>\n",
       "    </tr>\n",
       "    <tr>\n",
       "      <th>2</th>\n",
       "      <td>2</td>\n",
       "      <td>2000</td>\n",
       "      <td>4.0</td>\n",
       "      <td>False</td>\n",
       "    </tr>\n",
       "    <tr>\n",
       "      <th>3</th>\n",
       "      <td>3</td>\n",
       "      <td>2000</td>\n",
       "      <td>5.0</td>\n",
       "      <td>False</td>\n",
       "    </tr>\n",
       "    <tr>\n",
       "      <th>4</th>\n",
       "      <td>4</td>\n",
       "      <td>2000</td>\n",
       "      <td>5.0</td>\n",
       "      <td>False</td>\n",
       "    </tr>\n",
       "    <tr>\n",
       "      <th>...</th>\n",
       "      <td>...</td>\n",
       "      <td>...</td>\n",
       "      <td>...</td>\n",
       "      <td>...</td>\n",
       "    </tr>\n",
       "    <tr>\n",
       "      <th>41624</th>\n",
       "      <td>2186</td>\n",
       "      <td>2018</td>\n",
       "      <td>5.0</td>\n",
       "      <td>False</td>\n",
       "    </tr>\n",
       "    <tr>\n",
       "      <th>41625</th>\n",
       "      <td>2187</td>\n",
       "      <td>2018</td>\n",
       "      <td>3.0</td>\n",
       "      <td>False</td>\n",
       "    </tr>\n",
       "    <tr>\n",
       "      <th>41626</th>\n",
       "      <td>2188</td>\n",
       "      <td>2018</td>\n",
       "      <td>3.0</td>\n",
       "      <td>False</td>\n",
       "    </tr>\n",
       "    <tr>\n",
       "      <th>41627</th>\n",
       "      <td>2189</td>\n",
       "      <td>2018</td>\n",
       "      <td>5.0</td>\n",
       "      <td>False</td>\n",
       "    </tr>\n",
       "    <tr>\n",
       "      <th>41628</th>\n",
       "      <td>2190</td>\n",
       "      <td>2018</td>\n",
       "      <td>9.0</td>\n",
       "      <td>False</td>\n",
       "    </tr>\n",
       "  </tbody>\n",
       "</table>\n",
       "<p>41629 rows × 4 columns</p>\n",
       "</div>"
      ],
      "text/plain": [
       "         Id  year   CR   bool\n",
       "0         0  2000  7.0  False\n",
       "1         1  2000  7.0  False\n",
       "2         2  2000  4.0  False\n",
       "3         3  2000  5.0  False\n",
       "4         4  2000  5.0  False\n",
       "...     ...   ...  ...    ...\n",
       "41624  2186  2018  5.0  False\n",
       "41625  2187  2018  3.0  False\n",
       "41626  2188  2018  3.0  False\n",
       "41627  2189  2018  5.0  False\n",
       "41628  2190  2018  9.0  False\n",
       "\n",
       "[41629 rows x 4 columns]"
      ]
     },
     "execution_count": 159,
     "metadata": {},
     "output_type": "execute_result"
    }
   ],
   "source": [
    "y"
   ]
  },
  {
   "cell_type": "markdown",
   "metadata": {},
   "source": [
    "## 데이터 생성\n",
    "- 원하는 기간만큼의 과거 데이터를 feature로 하여 데이터셋을 만드는 함수"
   ]
  },
  {
   "cell_type": "markdown",
   "metadata": {},
   "source": [
    "### make_dataset\n",
    "- \"CR\"의 값이 0인 것은 결측데이터이기 때문에 모두 제외하고 원하는 기간만큼의 과거 데이터를 feature로 하여 데이터셋을 만듦"
   ]
  },
  {
   "cell_type": "code",
   "execution_count": 595,
   "metadata": {},
   "outputs": [],
   "source": [
    "def make_dataset(term):\n",
    "    dataset = y[2191*(term):][:]\n",
    "    start = True # 아직 x에 데이터가 쌓아지지 않았다면 0, 쌓아졌다면 1\n",
    "    stop = False \n",
    "    x = None # 데이터를 쌓을 장소\n",
    "    \n",
    "    y[\"bool\"]=[False]*len(y) # y bool 칼럼 False로 초기화\n",
    "    \n",
    "    # 데이터를 세로로 쌓는 for문\n",
    "    for idx in range(len(dataset)):\n",
    "        row = dataset[idx:idx+1]\n",
    "        if not row[\"CR\"].iloc[0]:\n",
    "            continue\n",
    "        \n",
    "        # 데이터를 가로로 쌓는 for문\n",
    "        for i in range(1,term+1):\n",
    "            if i==1:\n",
    "                a = train_sero.loc[(train_sero[\"Id\"]==row[\"Id\"].iloc[0])&(train_sero[\"year\"]==row[\"year\"].iloc[0]-i),:]\n",
    "                if not a[\"CR\"].iloc[0]:\n",
    "                    stop = True\n",
    "                    break\n",
    "                \n",
    "            else:\n",
    "                b = train_sero.loc[(train_sero[\"Id\"]==row[\"Id\"].iloc[0])&(train_sero[\"year\"]==row[\"year\"].iloc[0]-i),:]\n",
    "                if not b[\"CR\"].iloc[0]:\n",
    "                    stop = True\n",
    "                    break\n",
    "                a = a.merge(b,on=\"Id\")\n",
    "        \n",
    "        # 잘못된 데이터면 쌓지않고 넘어감\n",
    "        if stop:\n",
    "            stop = False\n",
    "            continue\n",
    "        \n",
    "        # x에 데이터 쌓음\n",
    "        if start:\n",
    "            start = False\n",
    "            x = a[:]\n",
    "            display(x) \n",
    "        else:\n",
    "            x = pd.concat([x,a],axis=0)\n",
    "        \n",
    "        # y에서 종속변수로 사용된 데이터 bool 칼럼 True로 바꾸어줌\n",
    "        y[\"bool\"][2191*(term)+idx]=True\n",
    "        \n",
    "    return x"
   ]
  },
  {
   "cell_type": "markdown",
   "metadata": {},
   "source": [
    "### 새로운 칼럼 네임을 생성(중복되지 않게)"
   ]
  },
  {
   "cell_type": "code",
   "execution_count": 613,
   "metadata": {},
   "outputs": [],
   "source": [
    "def make_colname(x):\n",
    "    new_col_name = []\n",
    "    for idx,i in enumerate(range(0,len(x)-33,34)):\n",
    "        new_col_name += list(map(lambda x:x+f\"_{idx}\",x[i:i+34]))\n",
    "        \n",
    "    return new_col_name"
   ]
  },
  {
   "cell_type": "markdown",
   "metadata": {},
   "source": [
    "## 전처리"
   ]
  },
  {
   "cell_type": "code",
   "execution_count": 634,
   "metadata": {},
   "outputs": [],
   "source": [
    "def mlp_data_preprocessing(X, y):\n",
    "    x = X[:]\n",
    "    # feature로 사용하지 않을 feature 제거\n",
    "    for i in x.columns:\n",
    "        if (\"year\" == i.split(\"_\")[0]):\n",
    "            x.drop([i], axis=1, inplace=True)\n",
    "            \n",
    "    # 범주형 변수 -> one-hot encoding\n",
    "    # ao, ms, cs\n",
    "    label_columns = [\"AO\",\"MS\",\"CS\",\"CR\"]\n",
    "    del_columns = []\n",
    "    First = True\n",
    "    for i in label_columns:\n",
    "        for j in x.columns:\n",
    "            if i == j.split(\"_\")[0]:\n",
    "                del_columns.append(j)\n",
    "                if First:\n",
    "                    a = pd.get_dummies(x[j])\n",
    "                    First = False\n",
    "                else:\n",
    "                    a = pd.concat([a,pd.get_dummies(x[j])], axis=1)\n",
    "    x = pd.concat([x,a], axis=1)\n",
    "    print(del_columns)\n",
    "    x.drop(del_columns, axis=1, inplace=True) \n",
    "    \n",
    "    # 부도위험이 높은것(8,9,10)과 부도위험이 높지 않은 것으로 분류(1~7)\n",
    "    y[\"CR\"]=y[\"CR\"].apply(lambda x: 0 if x in [1,2,3,4,5,6,7] else 1)\n",
    "    y = y.loc[y[\"bool\"]==True,\"CR\"]\n",
    "    \n",
    "    return x, y"
   ]
  },
  {
   "cell_type": "code",
   "execution_count": 414,
   "metadata": {
    "scrolled": false
   },
   "outputs": [
    {
     "name": "stderr",
     "output_type": "stream",
     "text": [
      "C:\\ProgramData\\Anaconda3\\lib\\site-packages\\pandas\\core\\frame.py:3990: SettingWithCopyWarning: \n",
      "A value is trying to be set on a copy of a slice from a DataFrame\n",
      "\n",
      "See the caveats in the documentation: https://pandas.pydata.org/pandas-docs/stable/user_guide/indexing.html#returning-a-view-versus-a-copy\n",
      "  return super().drop(\n"
     ]
    },
    {
     "name": "stdout",
     "output_type": "stream",
     "text": [
      "['AO_x', 'AO_y', 'MS_x', 'MS_y', 'CS_x', 'CS_y', 'CR_x', 'CR_y']\n"
     ]
    },
    {
     "name": "stderr",
     "output_type": "stream",
     "text": [
      "<ipython-input-413-a9b1754498b3>:27: SettingWithCopyWarning: \n",
      "A value is trying to be set on a copy of a slice from a DataFrame.\n",
      "Try using .loc[row_indexer,col_indexer] = value instead\n",
      "\n",
      "See the caveats in the documentation: https://pandas.pydata.org/pandas-docs/stable/user_guide/indexing.html#returning-a-view-versus-a-copy\n",
      "  y[\"CR\"]=y[\"CR\"].apply(lambda x: 0 if x in [1,2,3,4,5,6,7] else 1)\n"
     ]
    }
   ],
   "source": [
    "X_data, y_data = mlp_data_preprocessing(X,y[2191*2:])"
   ]
  },
  {
   "cell_type": "markdown",
   "metadata": {},
   "source": [
    "### 각 term별 데이터 저장"
   ]
  },
  {
   "cell_type": "code",
   "execution_count": 735,
   "metadata": {
    "scrolled": true
   },
   "outputs": [
    {
     "data": {
      "text/html": [
       "<div>\n",
       "<style scoped>\n",
       "    .dataframe tbody tr th:only-of-type {\n",
       "        vertical-align: middle;\n",
       "    }\n",
       "\n",
       "    .dataframe tbody tr th {\n",
       "        vertical-align: top;\n",
       "    }\n",
       "\n",
       "    .dataframe thead th {\n",
       "        text-align: right;\n",
       "    }\n",
       "</style>\n",
       "<table border=\"1\" class=\"dataframe\">\n",
       "  <thead>\n",
       "    <tr style=\"text-align: right;\">\n",
       "      <th></th>\n",
       "      <th>ACT_x</th>\n",
       "      <th>ACMTC_x</th>\n",
       "      <th>ACMTP_x</th>\n",
       "      <th>ACMTR_x</th>\n",
       "      <th>ACMTS_x</th>\n",
       "      <th>AO_x</th>\n",
       "      <th>CFOA_x</th>\n",
       "      <th>CSI_x</th>\n",
       "      <th>CS_x</th>\n",
       "      <th>CBIT_x</th>\n",
       "      <th>...</th>\n",
       "      <th>NE_y</th>\n",
       "      <th>S_y</th>\n",
       "      <th>SMC_y</th>\n",
       "      <th>STB_y</th>\n",
       "      <th>TFAG_y</th>\n",
       "      <th>TA_y</th>\n",
       "      <th>TAT_y</th>\n",
       "      <th>gdp_y</th>\n",
       "      <th>CR_y</th>\n",
       "      <th>year_y</th>\n",
       "    </tr>\n",
       "  </thead>\n",
       "  <tbody>\n",
       "    <tr>\n",
       "      <th>0</th>\n",
       "      <td>2.87</td>\n",
       "      <td>2.200000e+09</td>\n",
       "      <td>0.0</td>\n",
       "      <td>1.829000e+09</td>\n",
       "      <td>0.0</td>\n",
       "      <td>0.0</td>\n",
       "      <td>3.987995e+09</td>\n",
       "      <td>17100356.0</td>\n",
       "      <td>1</td>\n",
       "      <td>1.968500e+09</td>\n",
       "      <td>...</td>\n",
       "      <td>233</td>\n",
       "      <td>2.620484e+09</td>\n",
       "      <td>669758000.0</td>\n",
       "      <td>0.0</td>\n",
       "      <td>99.06</td>\n",
       "      <td>4.612571e+09</td>\n",
       "      <td>0.78</td>\n",
       "      <td>651634.4</td>\n",
       "      <td>7</td>\n",
       "      <td>2000</td>\n",
       "    </tr>\n",
       "  </tbody>\n",
       "</table>\n",
       "<p>1 rows × 409 columns</p>\n",
       "</div>"
      ],
      "text/plain": [
       "   ACT_x       ACMTC_x  ACMTP_x       ACMTR_x  ACMTS_x  AO_x        CFOA_x  \\\n",
       "0   2.87  2.200000e+09      0.0  1.829000e+09      0.0   0.0  3.987995e+09   \n",
       "\n",
       "        CSI_x  CS_x        CBIT_x  ...  NE_y           S_y        SMC_y  \\\n",
       "0  17100356.0     1  1.968500e+09  ...   233  2.620484e+09  669758000.0   \n",
       "\n",
       "   STB_y  TFAG_y          TA_y  TAT_y     gdp_y  CR_y  year_y  \n",
       "0    0.0   99.06  4.612571e+09   0.78  651634.4     7    2000  \n",
       "\n",
       "[1 rows x 409 columns]"
      ]
     },
     "metadata": {},
     "output_type": "display_data"
    },
    {
     "name": "stderr",
     "output_type": "stream",
     "text": [
      "<ipython-input-595-3f5a9a5e8e57>:44: SettingWithCopyWarning: \n",
      "A value is trying to be set on a copy of a slice from a DataFrame\n",
      "\n",
      "See the caveats in the documentation: https://pandas.pydata.org/pandas-docs/stable/user_guide/indexing.html#returning-a-view-versus-a-copy\n",
      "  y[\"bool\"][2191*(term)+idx]=True\n",
      "C:\\ProgramData\\Anaconda3\\lib\\site-packages\\pandas\\core\\frame.py:3990: SettingWithCopyWarning: \n",
      "A value is trying to be set on a copy of a slice from a DataFrame\n",
      "\n",
      "See the caveats in the documentation: https://pandas.pydata.org/pandas-docs/stable/user_guide/indexing.html#returning-a-view-versus-a-copy\n",
      "  return super().drop(\n"
     ]
    },
    {
     "name": "stdout",
     "output_type": "stream",
     "text": [
      "['AO_x_0', 'AO_y_1', 'AO_x_2', 'AO_y_3', 'AO_x_4', 'AO_y_5', 'AO_x_6', 'AO_y_7', 'AO_x_8', 'AO_y_9', 'AO_x_10', 'AO_y_11', 'MS_x_0', 'MS_y_1', 'MS_x_2', 'MS_y_3', 'MS_x_4', 'MS_y_5', 'MS_x_6', 'MS_y_7', 'MS_x_8', 'MS_y_9', 'MS_x_10', 'MS_y_11', 'CS_x_0', 'CS_y_1', 'CS_x_2', 'CS_y_3', 'CS_x_4', 'CS_y_5', 'CS_x_6', 'CS_y_7', 'CS_x_8', 'CS_y_9', 'CS_x_10', 'CS_y_11', 'CR_x_0', 'CR_y_1', 'CR_x_2', 'CR_y_3', 'CR_x_4', 'CR_y_5', 'CR_x_6', 'CR_y_7', 'CR_x_8', 'CR_y_9', 'CR_x_10', 'CR_y_11']\n"
     ]
    },
    {
     "name": "stderr",
     "output_type": "stream",
     "text": [
      "<ipython-input-634-e985ba2ca28f>:27: SettingWithCopyWarning: \n",
      "A value is trying to be set on a copy of a slice from a DataFrame.\n",
      "Try using .loc[row_indexer,col_indexer] = value instead\n",
      "\n",
      "See the caveats in the documentation: https://pandas.pydata.org/pandas-docs/stable/user_guide/indexing.html#returning-a-view-versus-a-copy\n",
      "  y[\"CR\"]=y[\"CR\"].apply(lambda x: 0 if x in [1,2,3,4,5,6,7] else 1)\n"
     ]
    },
    {
     "name": "stdout",
     "output_type": "stream",
     "text": [
      "12개년 데이터 완성\n"
     ]
    },
    {
     "data": {
      "text/html": [
       "<div>\n",
       "<style scoped>\n",
       "    .dataframe tbody tr th:only-of-type {\n",
       "        vertical-align: middle;\n",
       "    }\n",
       "\n",
       "    .dataframe tbody tr th {\n",
       "        vertical-align: top;\n",
       "    }\n",
       "\n",
       "    .dataframe thead th {\n",
       "        text-align: right;\n",
       "    }\n",
       "</style>\n",
       "<table border=\"1\" class=\"dataframe\">\n",
       "  <thead>\n",
       "    <tr style=\"text-align: right;\">\n",
       "      <th></th>\n",
       "      <th>ACT_x</th>\n",
       "      <th>ACMTC_x</th>\n",
       "      <th>ACMTP_x</th>\n",
       "      <th>ACMTR_x</th>\n",
       "      <th>ACMTS_x</th>\n",
       "      <th>AO_x</th>\n",
       "      <th>CFOA_x</th>\n",
       "      <th>CSI_x</th>\n",
       "      <th>CS_x</th>\n",
       "      <th>CBIT_x</th>\n",
       "      <th>...</th>\n",
       "      <th>NE</th>\n",
       "      <th>S</th>\n",
       "      <th>SMC</th>\n",
       "      <th>STB</th>\n",
       "      <th>TFAG</th>\n",
       "      <th>TA</th>\n",
       "      <th>TAT</th>\n",
       "      <th>gdp</th>\n",
       "      <th>CR</th>\n",
       "      <th>year</th>\n",
       "    </tr>\n",
       "  </thead>\n",
       "  <tbody>\n",
       "    <tr>\n",
       "      <th>0</th>\n",
       "      <td>3.19</td>\n",
       "      <td>631000000.0</td>\n",
       "      <td>0.0</td>\n",
       "      <td>1.279000e+09</td>\n",
       "      <td>0.0</td>\n",
       "      <td>0.0</td>\n",
       "      <td>4.154058e+09</td>\n",
       "      <td>17100356.0</td>\n",
       "      <td>1</td>\n",
       "      <td>1.924011e+09</td>\n",
       "      <td>...</td>\n",
       "      <td>233</td>\n",
       "      <td>2.620484e+09</td>\n",
       "      <td>669758000.0</td>\n",
       "      <td>0.0</td>\n",
       "      <td>99.06</td>\n",
       "      <td>4.612571e+09</td>\n",
       "      <td>0.78</td>\n",
       "      <td>651634.4</td>\n",
       "      <td>7</td>\n",
       "      <td>2000</td>\n",
       "    </tr>\n",
       "  </tbody>\n",
       "</table>\n",
       "<p>1 rows × 443 columns</p>\n",
       "</div>"
      ],
      "text/plain": [
       "   ACT_x      ACMTC_x  ACMTP_x       ACMTR_x  ACMTS_x  AO_x        CFOA_x  \\\n",
       "0   3.19  631000000.0      0.0  1.279000e+09      0.0   0.0  4.154058e+09   \n",
       "\n",
       "        CSI_x  CS_x        CBIT_x  ...   NE             S          SMC  STB  \\\n",
       "0  17100356.0     1  1.924011e+09  ...  233  2.620484e+09  669758000.0  0.0   \n",
       "\n",
       "    TFAG            TA   TAT       gdp  CR  year  \n",
       "0  99.06  4.612571e+09  0.78  651634.4   7  2000  \n",
       "\n",
       "[1 rows x 443 columns]"
      ]
     },
     "metadata": {},
     "output_type": "display_data"
    },
    {
     "name": "stderr",
     "output_type": "stream",
     "text": [
      "<ipython-input-595-3f5a9a5e8e57>:44: SettingWithCopyWarning: \n",
      "A value is trying to be set on a copy of a slice from a DataFrame\n",
      "\n",
      "See the caveats in the documentation: https://pandas.pydata.org/pandas-docs/stable/user_guide/indexing.html#returning-a-view-versus-a-copy\n",
      "  y[\"bool\"][2191*(term)+idx]=True\n",
      "C:\\ProgramData\\Anaconda3\\lib\\site-packages\\pandas\\core\\frame.py:3990: SettingWithCopyWarning: \n",
      "A value is trying to be set on a copy of a slice from a DataFrame\n",
      "\n",
      "See the caveats in the documentation: https://pandas.pydata.org/pandas-docs/stable/user_guide/indexing.html#returning-a-view-versus-a-copy\n",
      "  return super().drop(\n"
     ]
    },
    {
     "name": "stdout",
     "output_type": "stream",
     "text": [
      "['AO_x_0', 'AO_y_1', 'AO_x_2', 'AO_y_3', 'AO_x_4', 'AO_y_5', 'AO_x_6', 'AO_y_7', 'AO_x_8', 'AO_y_9', 'AO_x_10', 'AO_y_11', 'AO_12', 'MS_x_0', 'MS_y_1', 'MS_x_2', 'MS_y_3', 'MS_x_4', 'MS_y_5', 'MS_x_6', 'MS_y_7', 'MS_x_8', 'MS_y_9', 'MS_x_10', 'MS_y_11', 'MS_12', 'CS_x_0', 'CS_y_1', 'CS_x_2', 'CS_y_3', 'CS_x_4', 'CS_y_5', 'CS_x_6', 'CS_y_7', 'CS_x_8', 'CS_y_9', 'CS_x_10', 'CS_y_11', 'CS_12', 'CR_x_0', 'CR_y_1', 'CR_x_2', 'CR_y_3', 'CR_x_4', 'CR_y_5', 'CR_x_6', 'CR_y_7', 'CR_x_8', 'CR_y_9', 'CR_x_10', 'CR_y_11', 'CR_12']\n"
     ]
    },
    {
     "name": "stderr",
     "output_type": "stream",
     "text": [
      "<ipython-input-634-e985ba2ca28f>:27: SettingWithCopyWarning: \n",
      "A value is trying to be set on a copy of a slice from a DataFrame.\n",
      "Try using .loc[row_indexer,col_indexer] = value instead\n",
      "\n",
      "See the caveats in the documentation: https://pandas.pydata.org/pandas-docs/stable/user_guide/indexing.html#returning-a-view-versus-a-copy\n",
      "  y[\"CR\"]=y[\"CR\"].apply(lambda x: 0 if x in [1,2,3,4,5,6,7] else 1)\n"
     ]
    },
    {
     "name": "stdout",
     "output_type": "stream",
     "text": [
      "13개년 데이터 완성\n"
     ]
    },
    {
     "data": {
      "text/html": [
       "<div>\n",
       "<style scoped>\n",
       "    .dataframe tbody tr th:only-of-type {\n",
       "        vertical-align: middle;\n",
       "    }\n",
       "\n",
       "    .dataframe tbody tr th {\n",
       "        vertical-align: top;\n",
       "    }\n",
       "\n",
       "    .dataframe thead th {\n",
       "        text-align: right;\n",
       "    }\n",
       "</style>\n",
       "<table border=\"1\" class=\"dataframe\">\n",
       "  <thead>\n",
       "    <tr style=\"text-align: right;\">\n",
       "      <th></th>\n",
       "      <th>ACT_x</th>\n",
       "      <th>ACMTC_x</th>\n",
       "      <th>ACMTP_x</th>\n",
       "      <th>ACMTR_x</th>\n",
       "      <th>ACMTS_x</th>\n",
       "      <th>AO_x</th>\n",
       "      <th>CFOA_x</th>\n",
       "      <th>CSI_x</th>\n",
       "      <th>CS_x</th>\n",
       "      <th>CBIT_x</th>\n",
       "      <th>...</th>\n",
       "      <th>NE_y</th>\n",
       "      <th>S_y</th>\n",
       "      <th>SMC_y</th>\n",
       "      <th>STB_y</th>\n",
       "      <th>TFAG_y</th>\n",
       "      <th>TA_y</th>\n",
       "      <th>TAT_y</th>\n",
       "      <th>gdp_y</th>\n",
       "      <th>CR_y</th>\n",
       "      <th>year_y</th>\n",
       "    </tr>\n",
       "  </thead>\n",
       "  <tbody>\n",
       "    <tr>\n",
       "      <th>0</th>\n",
       "      <td>3.4</td>\n",
       "      <td>5.375000e+09</td>\n",
       "      <td>0.0</td>\n",
       "      <td>4.572000e+09</td>\n",
       "      <td>0.0</td>\n",
       "      <td>0.0</td>\n",
       "      <td>4.290916e+09</td>\n",
       "      <td>17100356.0</td>\n",
       "      <td>1</td>\n",
       "      <td>3.085521e+09</td>\n",
       "      <td>...</td>\n",
       "      <td>233</td>\n",
       "      <td>2.620484e+09</td>\n",
       "      <td>669758000.0</td>\n",
       "      <td>0.0</td>\n",
       "      <td>99.06</td>\n",
       "      <td>4.612571e+09</td>\n",
       "      <td>0.78</td>\n",
       "      <td>651634.4</td>\n",
       "      <td>7</td>\n",
       "      <td>2000</td>\n",
       "    </tr>\n",
       "  </tbody>\n",
       "</table>\n",
       "<p>1 rows × 477 columns</p>\n",
       "</div>"
      ],
      "text/plain": [
       "   ACT_x       ACMTC_x  ACMTP_x       ACMTR_x  ACMTS_x  AO_x        CFOA_x  \\\n",
       "0    3.4  5.375000e+09      0.0  4.572000e+09      0.0   0.0  4.290916e+09   \n",
       "\n",
       "        CSI_x  CS_x        CBIT_x  ...  NE_y           S_y        SMC_y  \\\n",
       "0  17100356.0     1  3.085521e+09  ...   233  2.620484e+09  669758000.0   \n",
       "\n",
       "   STB_y  TFAG_y          TA_y  TAT_y     gdp_y  CR_y  year_y  \n",
       "0    0.0   99.06  4.612571e+09   0.78  651634.4     7    2000  \n",
       "\n",
       "[1 rows x 477 columns]"
      ]
     },
     "metadata": {},
     "output_type": "display_data"
    },
    {
     "name": "stderr",
     "output_type": "stream",
     "text": [
      "<ipython-input-595-3f5a9a5e8e57>:44: SettingWithCopyWarning: \n",
      "A value is trying to be set on a copy of a slice from a DataFrame\n",
      "\n",
      "See the caveats in the documentation: https://pandas.pydata.org/pandas-docs/stable/user_guide/indexing.html#returning-a-view-versus-a-copy\n",
      "  y[\"bool\"][2191*(term)+idx]=True\n",
      "C:\\ProgramData\\Anaconda3\\lib\\site-packages\\pandas\\core\\frame.py:3990: SettingWithCopyWarning: \n",
      "A value is trying to be set on a copy of a slice from a DataFrame\n",
      "\n",
      "See the caveats in the documentation: https://pandas.pydata.org/pandas-docs/stable/user_guide/indexing.html#returning-a-view-versus-a-copy\n",
      "  return super().drop(\n"
     ]
    },
    {
     "name": "stdout",
     "output_type": "stream",
     "text": [
      "['AO_x_0', 'AO_y_1', 'AO_x_2', 'AO_y_3', 'AO_x_4', 'AO_y_5', 'AO_x_6', 'AO_y_7', 'AO_x_8', 'AO_y_9', 'AO_x_10', 'AO_y_11', 'AO_x_12', 'AO_y_13', 'MS_x_0', 'MS_y_1', 'MS_x_2', 'MS_y_3', 'MS_x_4', 'MS_y_5', 'MS_x_6', 'MS_y_7', 'MS_x_8', 'MS_y_9', 'MS_x_10', 'MS_y_11', 'MS_x_12', 'MS_y_13', 'CS_x_0', 'CS_y_1', 'CS_x_2', 'CS_y_3', 'CS_x_4', 'CS_y_5', 'CS_x_6', 'CS_y_7', 'CS_x_8', 'CS_y_9', 'CS_x_10', 'CS_y_11', 'CS_x_12', 'CS_y_13', 'CR_x_0', 'CR_y_1', 'CR_x_2', 'CR_y_3', 'CR_x_4', 'CR_y_5', 'CR_x_6', 'CR_y_7', 'CR_x_8', 'CR_y_9', 'CR_x_10', 'CR_y_11', 'CR_x_12', 'CR_y_13']\n"
     ]
    },
    {
     "name": "stderr",
     "output_type": "stream",
     "text": [
      "<ipython-input-634-e985ba2ca28f>:27: SettingWithCopyWarning: \n",
      "A value is trying to be set on a copy of a slice from a DataFrame.\n",
      "Try using .loc[row_indexer,col_indexer] = value instead\n",
      "\n",
      "See the caveats in the documentation: https://pandas.pydata.org/pandas-docs/stable/user_guide/indexing.html#returning-a-view-versus-a-copy\n",
      "  y[\"CR\"]=y[\"CR\"].apply(lambda x: 0 if x in [1,2,3,4,5,6,7] else 1)\n"
     ]
    },
    {
     "name": "stdout",
     "output_type": "stream",
     "text": [
      "14개년 데이터 완성\n"
     ]
    },
    {
     "data": {
      "text/html": [
       "<div>\n",
       "<style scoped>\n",
       "    .dataframe tbody tr th:only-of-type {\n",
       "        vertical-align: middle;\n",
       "    }\n",
       "\n",
       "    .dataframe tbody tr th {\n",
       "        vertical-align: top;\n",
       "    }\n",
       "\n",
       "    .dataframe thead th {\n",
       "        text-align: right;\n",
       "    }\n",
       "</style>\n",
       "<table border=\"1\" class=\"dataframe\">\n",
       "  <thead>\n",
       "    <tr style=\"text-align: right;\">\n",
       "      <th></th>\n",
       "      <th>ACT_x</th>\n",
       "      <th>ACMTC_x</th>\n",
       "      <th>ACMTP_x</th>\n",
       "      <th>ACMTR_x</th>\n",
       "      <th>ACMTS_x</th>\n",
       "      <th>AO_x</th>\n",
       "      <th>CFOA_x</th>\n",
       "      <th>CSI_x</th>\n",
       "      <th>CS_x</th>\n",
       "      <th>CBIT_x</th>\n",
       "      <th>...</th>\n",
       "      <th>NE</th>\n",
       "      <th>S</th>\n",
       "      <th>SMC</th>\n",
       "      <th>STB</th>\n",
       "      <th>TFAG</th>\n",
       "      <th>TA</th>\n",
       "      <th>TAT</th>\n",
       "      <th>gdp</th>\n",
       "      <th>CR</th>\n",
       "      <th>year</th>\n",
       "    </tr>\n",
       "  </thead>\n",
       "  <tbody>\n",
       "    <tr>\n",
       "      <th>0</th>\n",
       "      <td>2.78</td>\n",
       "      <td>9.744000e+09</td>\n",
       "      <td>0.0</td>\n",
       "      <td>5.912000e+09</td>\n",
       "      <td>0.0</td>\n",
       "      <td>0.0</td>\n",
       "      <td>1.851034e+09</td>\n",
       "      <td>18937090.0</td>\n",
       "      <td>1</td>\n",
       "      <td>-5.574317e+09</td>\n",
       "      <td>...</td>\n",
       "      <td>233</td>\n",
       "      <td>2.620484e+09</td>\n",
       "      <td>669758000.0</td>\n",
       "      <td>0.0</td>\n",
       "      <td>99.06</td>\n",
       "      <td>4.612571e+09</td>\n",
       "      <td>0.78</td>\n",
       "      <td>651634.4</td>\n",
       "      <td>7</td>\n",
       "      <td>2000</td>\n",
       "    </tr>\n",
       "  </tbody>\n",
       "</table>\n",
       "<p>1 rows × 511 columns</p>\n",
       "</div>"
      ],
      "text/plain": [
       "   ACT_x       ACMTC_x  ACMTP_x       ACMTR_x  ACMTS_x  AO_x        CFOA_x  \\\n",
       "0   2.78  9.744000e+09      0.0  5.912000e+09      0.0   0.0  1.851034e+09   \n",
       "\n",
       "        CSI_x  CS_x        CBIT_x  ...   NE             S          SMC  STB  \\\n",
       "0  18937090.0     1 -5.574317e+09  ...  233  2.620484e+09  669758000.0  0.0   \n",
       "\n",
       "    TFAG            TA   TAT       gdp  CR  year  \n",
       "0  99.06  4.612571e+09  0.78  651634.4   7  2000  \n",
       "\n",
       "[1 rows x 511 columns]"
      ]
     },
     "metadata": {},
     "output_type": "display_data"
    },
    {
     "name": "stderr",
     "output_type": "stream",
     "text": [
      "<ipython-input-595-3f5a9a5e8e57>:44: SettingWithCopyWarning: \n",
      "A value is trying to be set on a copy of a slice from a DataFrame\n",
      "\n",
      "See the caveats in the documentation: https://pandas.pydata.org/pandas-docs/stable/user_guide/indexing.html#returning-a-view-versus-a-copy\n",
      "  y[\"bool\"][2191*(term)+idx]=True\n",
      "C:\\ProgramData\\Anaconda3\\lib\\site-packages\\pandas\\core\\frame.py:3990: SettingWithCopyWarning: \n",
      "A value is trying to be set on a copy of a slice from a DataFrame\n",
      "\n",
      "See the caveats in the documentation: https://pandas.pydata.org/pandas-docs/stable/user_guide/indexing.html#returning-a-view-versus-a-copy\n",
      "  return super().drop(\n"
     ]
    },
    {
     "name": "stdout",
     "output_type": "stream",
     "text": [
      "['AO_x_0', 'AO_y_1', 'AO_x_2', 'AO_y_3', 'AO_x_4', 'AO_y_5', 'AO_x_6', 'AO_y_7', 'AO_x_8', 'AO_y_9', 'AO_x_10', 'AO_y_11', 'AO_x_12', 'AO_y_13', 'AO_14', 'MS_x_0', 'MS_y_1', 'MS_x_2', 'MS_y_3', 'MS_x_4', 'MS_y_5', 'MS_x_6', 'MS_y_7', 'MS_x_8', 'MS_y_9', 'MS_x_10', 'MS_y_11', 'MS_x_12', 'MS_y_13', 'MS_14', 'CS_x_0', 'CS_y_1', 'CS_x_2', 'CS_y_3', 'CS_x_4', 'CS_y_5', 'CS_x_6', 'CS_y_7', 'CS_x_8', 'CS_y_9', 'CS_x_10', 'CS_y_11', 'CS_x_12', 'CS_y_13', 'CS_14', 'CR_x_0', 'CR_y_1', 'CR_x_2', 'CR_y_3', 'CR_x_4', 'CR_y_5', 'CR_x_6', 'CR_y_7', 'CR_x_8', 'CR_y_9', 'CR_x_10', 'CR_y_11', 'CR_x_12', 'CR_y_13', 'CR_14']\n"
     ]
    },
    {
     "name": "stderr",
     "output_type": "stream",
     "text": [
      "<ipython-input-634-e985ba2ca28f>:27: SettingWithCopyWarning: \n",
      "A value is trying to be set on a copy of a slice from a DataFrame.\n",
      "Try using .loc[row_indexer,col_indexer] = value instead\n",
      "\n",
      "See the caveats in the documentation: https://pandas.pydata.org/pandas-docs/stable/user_guide/indexing.html#returning-a-view-versus-a-copy\n",
      "  y[\"CR\"]=y[\"CR\"].apply(lambda x: 0 if x in [1,2,3,4,5,6,7] else 1)\n"
     ]
    },
    {
     "name": "stdout",
     "output_type": "stream",
     "text": [
      "15개년 데이터 완성\n"
     ]
    },
    {
     "data": {
      "text/html": [
       "<div>\n",
       "<style scoped>\n",
       "    .dataframe tbody tr th:only-of-type {\n",
       "        vertical-align: middle;\n",
       "    }\n",
       "\n",
       "    .dataframe tbody tr th {\n",
       "        vertical-align: top;\n",
       "    }\n",
       "\n",
       "    .dataframe thead th {\n",
       "        text-align: right;\n",
       "    }\n",
       "</style>\n",
       "<table border=\"1\" class=\"dataframe\">\n",
       "  <thead>\n",
       "    <tr style=\"text-align: right;\">\n",
       "      <th></th>\n",
       "      <th>ACT_x</th>\n",
       "      <th>ACMTC_x</th>\n",
       "      <th>ACMTP_x</th>\n",
       "      <th>ACMTR_x</th>\n",
       "      <th>ACMTS_x</th>\n",
       "      <th>AO_x</th>\n",
       "      <th>CFOA_x</th>\n",
       "      <th>CSI_x</th>\n",
       "      <th>CS_x</th>\n",
       "      <th>CBIT_x</th>\n",
       "      <th>...</th>\n",
       "      <th>NE_y</th>\n",
       "      <th>S_y</th>\n",
       "      <th>SMC_y</th>\n",
       "      <th>STB_y</th>\n",
       "      <th>TFAG_y</th>\n",
       "      <th>TA_y</th>\n",
       "      <th>TAT_y</th>\n",
       "      <th>gdp_y</th>\n",
       "      <th>CR_y</th>\n",
       "      <th>year_y</th>\n",
       "    </tr>\n",
       "  </thead>\n",
       "  <tbody>\n",
       "    <tr>\n",
       "      <th>0</th>\n",
       "      <td>2.68</td>\n",
       "      <td>1.204900e+10</td>\n",
       "      <td>0.0</td>\n",
       "      <td>8.410000e+09</td>\n",
       "      <td>0.0</td>\n",
       "      <td>0.0</td>\n",
       "      <td>4.037069e+09</td>\n",
       "      <td>21519436.0</td>\n",
       "      <td>1</td>\n",
       "      <td>2.172903e+09</td>\n",
       "      <td>...</td>\n",
       "      <td>233</td>\n",
       "      <td>2.620484e+09</td>\n",
       "      <td>669758000.0</td>\n",
       "      <td>0.0</td>\n",
       "      <td>99.06</td>\n",
       "      <td>4.612571e+09</td>\n",
       "      <td>0.78</td>\n",
       "      <td>651634.4</td>\n",
       "      <td>7</td>\n",
       "      <td>2000</td>\n",
       "    </tr>\n",
       "  </tbody>\n",
       "</table>\n",
       "<p>1 rows × 545 columns</p>\n",
       "</div>"
      ],
      "text/plain": [
       "   ACT_x       ACMTC_x  ACMTP_x       ACMTR_x  ACMTS_x  AO_x        CFOA_x  \\\n",
       "0   2.68  1.204900e+10      0.0  8.410000e+09      0.0   0.0  4.037069e+09   \n",
       "\n",
       "        CSI_x  CS_x        CBIT_x  ...  NE_y           S_y        SMC_y  \\\n",
       "0  21519436.0     1  2.172903e+09  ...   233  2.620484e+09  669758000.0   \n",
       "\n",
       "   STB_y  TFAG_y          TA_y  TAT_y     gdp_y  CR_y  year_y  \n",
       "0    0.0   99.06  4.612571e+09   0.78  651634.4     7    2000  \n",
       "\n",
       "[1 rows x 545 columns]"
      ]
     },
     "metadata": {},
     "output_type": "display_data"
    },
    {
     "name": "stderr",
     "output_type": "stream",
     "text": [
      "<ipython-input-595-3f5a9a5e8e57>:44: SettingWithCopyWarning: \n",
      "A value is trying to be set on a copy of a slice from a DataFrame\n",
      "\n",
      "See the caveats in the documentation: https://pandas.pydata.org/pandas-docs/stable/user_guide/indexing.html#returning-a-view-versus-a-copy\n",
      "  y[\"bool\"][2191*(term)+idx]=True\n",
      "C:\\ProgramData\\Anaconda3\\lib\\site-packages\\pandas\\core\\frame.py:3990: SettingWithCopyWarning: \n",
      "A value is trying to be set on a copy of a slice from a DataFrame\n",
      "\n",
      "See the caveats in the documentation: https://pandas.pydata.org/pandas-docs/stable/user_guide/indexing.html#returning-a-view-versus-a-copy\n",
      "  return super().drop(\n"
     ]
    },
    {
     "name": "stdout",
     "output_type": "stream",
     "text": [
      "['AO_x_0', 'AO_y_1', 'AO_x_2', 'AO_y_3', 'AO_x_4', 'AO_y_5', 'AO_x_6', 'AO_y_7', 'AO_x_8', 'AO_y_9', 'AO_x_10', 'AO_y_11', 'AO_x_12', 'AO_y_13', 'AO_x_14', 'AO_y_15', 'MS_x_0', 'MS_y_1', 'MS_x_2', 'MS_y_3', 'MS_x_4', 'MS_y_5', 'MS_x_6', 'MS_y_7', 'MS_x_8', 'MS_y_9', 'MS_x_10', 'MS_y_11', 'MS_x_12', 'MS_y_13', 'MS_x_14', 'MS_y_15', 'CS_x_0', 'CS_y_1', 'CS_x_2', 'CS_y_3', 'CS_x_4', 'CS_y_5', 'CS_x_6', 'CS_y_7', 'CS_x_8', 'CS_y_9', 'CS_x_10', 'CS_y_11', 'CS_x_12', 'CS_y_13', 'CS_x_14', 'CS_y_15', 'CR_x_0', 'CR_y_1', 'CR_x_2', 'CR_y_3', 'CR_x_4', 'CR_y_5', 'CR_x_6', 'CR_y_7', 'CR_x_8', 'CR_y_9', 'CR_x_10', 'CR_y_11', 'CR_x_12', 'CR_y_13', 'CR_x_14', 'CR_y_15']\n"
     ]
    },
    {
     "name": "stderr",
     "output_type": "stream",
     "text": [
      "<ipython-input-634-e985ba2ca28f>:27: SettingWithCopyWarning: \n",
      "A value is trying to be set on a copy of a slice from a DataFrame.\n",
      "Try using .loc[row_indexer,col_indexer] = value instead\n",
      "\n",
      "See the caveats in the documentation: https://pandas.pydata.org/pandas-docs/stable/user_guide/indexing.html#returning-a-view-versus-a-copy\n",
      "  y[\"CR\"]=y[\"CR\"].apply(lambda x: 0 if x in [1,2,3,4,5,6,7] else 1)\n"
     ]
    },
    {
     "name": "stdout",
     "output_type": "stream",
     "text": [
      "16개년 데이터 완성\n"
     ]
    },
    {
     "data": {
      "text/html": [
       "<div>\n",
       "<style scoped>\n",
       "    .dataframe tbody tr th:only-of-type {\n",
       "        vertical-align: middle;\n",
       "    }\n",
       "\n",
       "    .dataframe tbody tr th {\n",
       "        vertical-align: top;\n",
       "    }\n",
       "\n",
       "    .dataframe thead th {\n",
       "        text-align: right;\n",
       "    }\n",
       "</style>\n",
       "<table border=\"1\" class=\"dataframe\">\n",
       "  <thead>\n",
       "    <tr style=\"text-align: right;\">\n",
       "      <th></th>\n",
       "      <th>ACT_x</th>\n",
       "      <th>ACMTC_x</th>\n",
       "      <th>ACMTP_x</th>\n",
       "      <th>ACMTR_x</th>\n",
       "      <th>ACMTS_x</th>\n",
       "      <th>AO_x</th>\n",
       "      <th>CFOA_x</th>\n",
       "      <th>CSI_x</th>\n",
       "      <th>CS_x</th>\n",
       "      <th>CBIT_x</th>\n",
       "      <th>...</th>\n",
       "      <th>NE</th>\n",
       "      <th>S</th>\n",
       "      <th>SMC</th>\n",
       "      <th>STB</th>\n",
       "      <th>TFAG</th>\n",
       "      <th>TA</th>\n",
       "      <th>TAT</th>\n",
       "      <th>gdp</th>\n",
       "      <th>CR</th>\n",
       "      <th>year</th>\n",
       "    </tr>\n",
       "  </thead>\n",
       "  <tbody>\n",
       "    <tr>\n",
       "      <th>0</th>\n",
       "      <td>2.61</td>\n",
       "      <td>1.034000e+10</td>\n",
       "      <td>0.0</td>\n",
       "      <td>9.146000e+09</td>\n",
       "      <td>0.0</td>\n",
       "      <td>0.0</td>\n",
       "      <td>7.615381e+09</td>\n",
       "      <td>21874423.0</td>\n",
       "      <td>1</td>\n",
       "      <td>1.804500e+09</td>\n",
       "      <td>...</td>\n",
       "      <td>233</td>\n",
       "      <td>2.620484e+09</td>\n",
       "      <td>669758000.0</td>\n",
       "      <td>0.0</td>\n",
       "      <td>99.06</td>\n",
       "      <td>4.612571e+09</td>\n",
       "      <td>0.78</td>\n",
       "      <td>651634.4</td>\n",
       "      <td>7</td>\n",
       "      <td>2000</td>\n",
       "    </tr>\n",
       "  </tbody>\n",
       "</table>\n",
       "<p>1 rows × 579 columns</p>\n",
       "</div>"
      ],
      "text/plain": [
       "   ACT_x       ACMTC_x  ACMTP_x       ACMTR_x  ACMTS_x  AO_x        CFOA_x  \\\n",
       "0   2.61  1.034000e+10      0.0  9.146000e+09      0.0   0.0  7.615381e+09   \n",
       "\n",
       "        CSI_x  CS_x        CBIT_x  ...   NE             S          SMC  STB  \\\n",
       "0  21874423.0     1  1.804500e+09  ...  233  2.620484e+09  669758000.0  0.0   \n",
       "\n",
       "    TFAG            TA   TAT       gdp  CR  year  \n",
       "0  99.06  4.612571e+09  0.78  651634.4   7  2000  \n",
       "\n",
       "[1 rows x 579 columns]"
      ]
     },
     "metadata": {},
     "output_type": "display_data"
    },
    {
     "name": "stderr",
     "output_type": "stream",
     "text": [
      "<ipython-input-595-3f5a9a5e8e57>:44: SettingWithCopyWarning: \n",
      "A value is trying to be set on a copy of a slice from a DataFrame\n",
      "\n",
      "See the caveats in the documentation: https://pandas.pydata.org/pandas-docs/stable/user_guide/indexing.html#returning-a-view-versus-a-copy\n",
      "  y[\"bool\"][2191*(term)+idx]=True\n",
      "C:\\ProgramData\\Anaconda3\\lib\\site-packages\\pandas\\core\\frame.py:3990: SettingWithCopyWarning: \n",
      "A value is trying to be set on a copy of a slice from a DataFrame\n",
      "\n",
      "See the caveats in the documentation: https://pandas.pydata.org/pandas-docs/stable/user_guide/indexing.html#returning-a-view-versus-a-copy\n",
      "  return super().drop(\n"
     ]
    },
    {
     "name": "stdout",
     "output_type": "stream",
     "text": [
      "['AO_x_0', 'AO_y_1', 'AO_x_2', 'AO_y_3', 'AO_x_4', 'AO_y_5', 'AO_x_6', 'AO_y_7', 'AO_x_8', 'AO_y_9', 'AO_x_10', 'AO_y_11', 'AO_x_12', 'AO_y_13', 'AO_x_14', 'AO_y_15', 'AO_16', 'MS_x_0', 'MS_y_1', 'MS_x_2', 'MS_y_3', 'MS_x_4', 'MS_y_5', 'MS_x_6', 'MS_y_7', 'MS_x_8', 'MS_y_9', 'MS_x_10', 'MS_y_11', 'MS_x_12', 'MS_y_13', 'MS_x_14', 'MS_y_15', 'MS_16', 'CS_x_0', 'CS_y_1', 'CS_x_2', 'CS_y_3', 'CS_x_4', 'CS_y_5', 'CS_x_6', 'CS_y_7', 'CS_x_8', 'CS_y_9', 'CS_x_10', 'CS_y_11', 'CS_x_12', 'CS_y_13', 'CS_x_14', 'CS_y_15', 'CS_16', 'CR_x_0', 'CR_y_1', 'CR_x_2', 'CR_y_3', 'CR_x_4', 'CR_y_5', 'CR_x_6', 'CR_y_7', 'CR_x_8', 'CR_y_9', 'CR_x_10', 'CR_y_11', 'CR_x_12', 'CR_y_13', 'CR_x_14', 'CR_y_15', 'CR_16']\n"
     ]
    },
    {
     "name": "stderr",
     "output_type": "stream",
     "text": [
      "<ipython-input-634-e985ba2ca28f>:27: SettingWithCopyWarning: \n",
      "A value is trying to be set on a copy of a slice from a DataFrame.\n",
      "Try using .loc[row_indexer,col_indexer] = value instead\n",
      "\n",
      "See the caveats in the documentation: https://pandas.pydata.org/pandas-docs/stable/user_guide/indexing.html#returning-a-view-versus-a-copy\n",
      "  y[\"CR\"]=y[\"CR\"].apply(lambda x: 0 if x in [1,2,3,4,5,6,7] else 1)\n"
     ]
    },
    {
     "name": "stdout",
     "output_type": "stream",
     "text": [
      "17개년 데이터 완성\n"
     ]
    },
    {
     "data": {
      "text/html": [
       "<div>\n",
       "<style scoped>\n",
       "    .dataframe tbody tr th:only-of-type {\n",
       "        vertical-align: middle;\n",
       "    }\n",
       "\n",
       "    .dataframe tbody tr th {\n",
       "        vertical-align: top;\n",
       "    }\n",
       "\n",
       "    .dataframe thead th {\n",
       "        text-align: right;\n",
       "    }\n",
       "</style>\n",
       "<table border=\"1\" class=\"dataframe\">\n",
       "  <thead>\n",
       "    <tr style=\"text-align: right;\">\n",
       "      <th></th>\n",
       "      <th>ACT_x</th>\n",
       "      <th>ACMTC_x</th>\n",
       "      <th>ACMTP_x</th>\n",
       "      <th>ACMTR_x</th>\n",
       "      <th>ACMTS_x</th>\n",
       "      <th>AO_x</th>\n",
       "      <th>CFOA_x</th>\n",
       "      <th>CSI_x</th>\n",
       "      <th>CS_x</th>\n",
       "      <th>CBIT_x</th>\n",
       "      <th>...</th>\n",
       "      <th>NE_y</th>\n",
       "      <th>S_y</th>\n",
       "      <th>SMC_y</th>\n",
       "      <th>STB_y</th>\n",
       "      <th>TFAG_y</th>\n",
       "      <th>TA_y</th>\n",
       "      <th>TAT_y</th>\n",
       "      <th>gdp_y</th>\n",
       "      <th>CR_y</th>\n",
       "      <th>year_y</th>\n",
       "    </tr>\n",
       "  </thead>\n",
       "  <tbody>\n",
       "    <tr>\n",
       "      <th>0</th>\n",
       "      <td>2.61</td>\n",
       "      <td>1.388000e+10</td>\n",
       "      <td>0.0</td>\n",
       "      <td>9.388000e+09</td>\n",
       "      <td>0.0</td>\n",
       "      <td>0.0</td>\n",
       "      <td>6.492502e+09</td>\n",
       "      <td>21874423.0</td>\n",
       "      <td>1</td>\n",
       "      <td>-3.891006e+09</td>\n",
       "      <td>...</td>\n",
       "      <td>233</td>\n",
       "      <td>2.620484e+09</td>\n",
       "      <td>669758000.0</td>\n",
       "      <td>0.0</td>\n",
       "      <td>99.06</td>\n",
       "      <td>4.612571e+09</td>\n",
       "      <td>0.78</td>\n",
       "      <td>651634.4</td>\n",
       "      <td>7</td>\n",
       "      <td>2000</td>\n",
       "    </tr>\n",
       "  </tbody>\n",
       "</table>\n",
       "<p>1 rows × 613 columns</p>\n",
       "</div>"
      ],
      "text/plain": [
       "   ACT_x       ACMTC_x  ACMTP_x       ACMTR_x  ACMTS_x  AO_x        CFOA_x  \\\n",
       "0   2.61  1.388000e+10      0.0  9.388000e+09      0.0   0.0  6.492502e+09   \n",
       "\n",
       "        CSI_x  CS_x        CBIT_x  ...  NE_y           S_y        SMC_y  \\\n",
       "0  21874423.0     1 -3.891006e+09  ...   233  2.620484e+09  669758000.0   \n",
       "\n",
       "   STB_y  TFAG_y          TA_y  TAT_y     gdp_y  CR_y  year_y  \n",
       "0    0.0   99.06  4.612571e+09   0.78  651634.4     7    2000  \n",
       "\n",
       "[1 rows x 613 columns]"
      ]
     },
     "metadata": {},
     "output_type": "display_data"
    },
    {
     "name": "stderr",
     "output_type": "stream",
     "text": [
      "<ipython-input-595-3f5a9a5e8e57>:44: SettingWithCopyWarning: \n",
      "A value is trying to be set on a copy of a slice from a DataFrame\n",
      "\n",
      "See the caveats in the documentation: https://pandas.pydata.org/pandas-docs/stable/user_guide/indexing.html#returning-a-view-versus-a-copy\n",
      "  y[\"bool\"][2191*(term)+idx]=True\n",
      "C:\\ProgramData\\Anaconda3\\lib\\site-packages\\pandas\\core\\frame.py:3990: SettingWithCopyWarning: \n",
      "A value is trying to be set on a copy of a slice from a DataFrame\n",
      "\n",
      "See the caveats in the documentation: https://pandas.pydata.org/pandas-docs/stable/user_guide/indexing.html#returning-a-view-versus-a-copy\n",
      "  return super().drop(\n"
     ]
    },
    {
     "name": "stdout",
     "output_type": "stream",
     "text": [
      "['AO_x_0', 'AO_y_1', 'AO_x_2', 'AO_y_3', 'AO_x_4', 'AO_y_5', 'AO_x_6', 'AO_y_7', 'AO_x_8', 'AO_y_9', 'AO_x_10', 'AO_y_11', 'AO_x_12', 'AO_y_13', 'AO_x_14', 'AO_y_15', 'AO_x_16', 'AO_y_17', 'MS_x_0', 'MS_y_1', 'MS_x_2', 'MS_y_3', 'MS_x_4', 'MS_y_5', 'MS_x_6', 'MS_y_7', 'MS_x_8', 'MS_y_9', 'MS_x_10', 'MS_y_11', 'MS_x_12', 'MS_y_13', 'MS_x_14', 'MS_y_15', 'MS_x_16', 'MS_y_17', 'CS_x_0', 'CS_y_1', 'CS_x_2', 'CS_y_3', 'CS_x_4', 'CS_y_5', 'CS_x_6', 'CS_y_7', 'CS_x_8', 'CS_y_9', 'CS_x_10', 'CS_y_11', 'CS_x_12', 'CS_y_13', 'CS_x_14', 'CS_y_15', 'CS_x_16', 'CS_y_17', 'CR_x_0', 'CR_y_1', 'CR_x_2', 'CR_y_3', 'CR_x_4', 'CR_y_5', 'CR_x_6', 'CR_y_7', 'CR_x_8', 'CR_y_9', 'CR_x_10', 'CR_y_11', 'CR_x_12', 'CR_y_13', 'CR_x_14', 'CR_y_15', 'CR_x_16', 'CR_y_17']\n"
     ]
    },
    {
     "name": "stderr",
     "output_type": "stream",
     "text": [
      "<ipython-input-634-e985ba2ca28f>:27: SettingWithCopyWarning: \n",
      "A value is trying to be set on a copy of a slice from a DataFrame.\n",
      "Try using .loc[row_indexer,col_indexer] = value instead\n",
      "\n",
      "See the caveats in the documentation: https://pandas.pydata.org/pandas-docs/stable/user_guide/indexing.html#returning-a-view-versus-a-copy\n",
      "  y[\"CR\"]=y[\"CR\"].apply(lambda x: 0 if x in [1,2,3,4,5,6,7] else 1)\n"
     ]
    },
    {
     "name": "stdout",
     "output_type": "stream",
     "text": [
      "18개년 데이터 완성\n"
     ]
    }
   ],
   "source": [
    "for term in range(0,19):\n",
    "    X = make_dataset(term)\n",
    "    X = X.drop([\"Id\"], axis=1)\n",
    "    X.columns = make_colname(list(X.columns))\n",
    "    X_data, y_data = mlp_data_preprocessing(X,y[2191*term:])\n",
    "    \n",
    "    X_data.index=range(len(X_data))\n",
    "    y_data.index=range(len(y_data))\n",
    "    \n",
    "    total = X_data.join(y_data)\n",
    "    total.to_csv(f\"./final_data/{term}year.csv\",index=False)\n",
    "    print(f\"{term}개년 데이터 완성\")"
   ]
  }
 ],
 "metadata": {
  "kernelspec": {
   "display_name": "Python 3",
   "language": "python",
   "name": "python3"
  },
  "language_info": {
   "codemirror_mode": {
    "name": "ipython",
    "version": 3
   },
   "file_extension": ".py",
   "mimetype": "text/x-python",
   "name": "python",
   "nbconvert_exporter": "python",
   "pygments_lexer": "ipython3",
   "version": "3.8.3"
  }
 },
 "nbformat": 4,
 "nbformat_minor": 4
}
