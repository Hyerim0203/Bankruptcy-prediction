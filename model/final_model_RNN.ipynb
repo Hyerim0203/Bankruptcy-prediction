{
 "cells": [
  {
   "cell_type": "code",
   "execution_count": 13,
   "metadata": {},
   "outputs": [],
   "source": [
    "import matplotlib.pyplot as plt\n",
    "import seaborn as sns\n",
    "\n",
    "import tensorflow as tf\n",
    "from tensorflow import keras\n",
    "\n",
    "import numpy as np\n",
    "import pandas as pd\n",
    "\n",
    "import os"
   ]
  },
  {
   "cell_type": "code",
   "execution_count": 14,
   "metadata": {},
   "outputs": [],
   "source": [
    "raw = pd.read_csv(\"10year.csv\")"
   ]
  },
  {
   "cell_type": "code",
   "execution_count": 38,
   "metadata": {},
   "outputs": [],
   "source": [
    "def train_test_valid(file_name,term,valid=True):\n",
    "    raw = pd.read_csv(f\"{file_name}\")\n",
    "    \n",
    "    # 데이터셋 분할\n",
    "    from sklearn.model_selection import train_test_split\n",
    "    X_train_valid, X_test, y_train_valid, y_test = train_test_split(raw.iloc[:,:-1],raw.iloc[:,-1],\n",
    "                                                       random_state = 1,test_size = 0.3)\n",
    "    \n",
    "    if valid:\n",
    "        X_train,X_valid, y_train, y_valid = train_test_split(X_train_valid, y_train_valid, test_size = 0.2,\n",
    "                                                            random_state = 1)\n",
    "\n",
    "        # 표준화\n",
    "        from sklearn.preprocessing import StandardScaler, MinMaxScaler\n",
    "        scaler = StandardScaler().fit(X_train)\n",
    "        X_train = scaler.transform(X_train)\n",
    "        X_valid = scaler.transform(X_valid)\n",
    "        X_test = scaler.transform(X_test)\n",
    "\n",
    "        return X_train,X_valid,X_test,y_train,y_valid,y_test\n",
    "    else:\n",
    "         # 표준화\n",
    "        from sklearn.preprocessing import StandardScaler, MinMaxScaler\n",
    "        scaler = StandardScaler().fit(X_train_valid)\n",
    "        X_train_valid = scaler.transform(X_train_valid)\n",
    "        X_test = scaler.transform(X_test)\n",
    "        \n",
    "        return X_train_valid, X_test, y_train_valid, y_test"
   ]
  },
  {
   "cell_type": "code",
   "execution_count": 38,
   "metadata": {},
   "outputs": [],
   "source": [
    "# 파라미터 초기화 설정\n",
    "lucun_init = keras.initializers.VarianceScaling(scale=2.,\n",
    "                                mode=\"fan_in\",distribution=\"truncated_normal\")"
   ]
  },
  {
   "cell_type": "code",
   "execution_count": 39,
   "metadata": {
    "scrolled": true
   },
   "outputs": [],
   "source": [
    "from sklearn.metrics import confusion_matrix, roc_auc_score, f1_score, recall_score, precision_score, accuracy_score\n",
    "def get_score(X_test, y_test, term,model):\n",
    "    predicted = model.predict(X_test)[:,-1,:].round()\n",
    "    accuracy = accuracy_score(y_test, predicted)\n",
    "    precision = precision_score(y_test,predicted)\n",
    "    recall = recall_score(y_test, predicted)\n",
    "    confusion = confusion_matrix(y_test, predicted)\n",
    "    roc = roc_auc_score(y_test, predicted)\n",
    "    return accuracy, precision, recall, confusion, roc"
   ]
  },
  {
   "cell_type": "markdown",
   "metadata": {},
   "source": [
    "### 클래스 개수의 균형 확인"
   ]
  },
  {
   "cell_type": "code",
   "execution_count": 326,
   "metadata": {},
   "outputs": [
    {
     "data": {
      "text/plain": [
       "0    0.882135\n",
       "1    0.117865\n",
       "Name: CR, dtype: float64"
      ]
     },
     "execution_count": 326,
     "metadata": {},
     "output_type": "execute_result"
    }
   ],
   "source": [
    "y_train.value_counts()/y_train.value_counts().sum()"
   ]
  },
  {
   "cell_type": "markdown",
   "metadata": {},
   "source": [
    "## 년도별 accuracy, recall, precision, roc 비교 -> 10개년의 recall이 가장 좋음"
   ]
  },
  {
   "cell_type": "code",
   "execution_count": 40,
   "metadata": {},
   "outputs": [],
   "source": [
    "checkpoint_cb = keras.callbacks.ModelCheckpoint(\"final_rnn_best_model.h5\",\n",
    "                                               save_best_only = True)\n",
    "early_stopping_cb = keras.callbacks.EarlyStopping(patience = 10, restore_best_weights = True)"
   ]
  },
  {
   "cell_type": "code",
   "execution_count": 184,
   "metadata": {},
   "outputs": [
    {
     "name": "stdout",
     "output_type": "stream",
     "text": [
      "10년도 데이터 훈련시작\n",
      "Epoch 1/40\n",
      "1/1 [==============================] - 2s 2s/step - loss: 0.1344 - accuracy: 0.5341 - val_loss: 1.1096 - val_accuracy: 0.6006\n",
      "Epoch 2/40\n",
      "1/1 [==============================] - 1s 713ms/step - loss: 0.1463 - accuracy: 0.6100 - val_loss: 0.8293 - val_accuracy: 0.6721\n",
      "Epoch 3/40\n",
      "1/1 [==============================] - 1s 739ms/step - loss: 0.1188 - accuracy: 0.6652 - val_loss: 0.6900 - val_accuracy: 0.6919\n",
      "Epoch 4/40\n",
      "1/1 [==============================] - 1s 751ms/step - loss: 0.1047 - accuracy: 0.6892 - val_loss: 0.6325 - val_accuracy: 0.7062\n",
      "Epoch 5/40\n",
      "1/1 [==============================] - 1s 715ms/step - loss: 0.0963 - accuracy: 0.7048 - val_loss: 0.6034 - val_accuracy: 0.7224\n",
      "Epoch 6/40\n",
      "1/1 [==============================] - 1s 692ms/step - loss: 0.0905 - accuracy: 0.7210 - val_loss: 0.5850 - val_accuracy: 0.7368\n",
      "Epoch 7/40\n",
      "1/1 [==============================] - 1s 704ms/step - loss: 0.0863 - accuracy: 0.7397 - val_loss: 0.5771 - val_accuracy: 0.7479\n",
      "Epoch 8/40\n",
      "1/1 [==============================] - 1s 769ms/step - loss: 0.0843 - accuracy: 0.7505 - val_loss: 0.5682 - val_accuracy: 0.7590\n",
      "Epoch 9/40\n",
      "1/1 [==============================] - 1s 774ms/step - loss: 0.0833 - accuracy: 0.7598 - val_loss: 0.5472 - val_accuracy: 0.7677\n",
      "Epoch 10/40\n",
      "1/1 [==============================] - 1s 749ms/step - loss: 0.0816 - accuracy: 0.7682 - val_loss: 0.5208 - val_accuracy: 0.7747\n",
      "Epoch 11/40\n",
      "1/1 [==============================] - 1s 749ms/step - loss: 0.0797 - accuracy: 0.7752 - val_loss: 0.5067 - val_accuracy: 0.7811\n",
      "Epoch 12/40\n",
      "1/1 [==============================] - 1s 661ms/step - loss: 0.0782 - accuracy: 0.7795 - val_loss: 0.5104 - val_accuracy: 0.7839\n",
      "Epoch 13/40\n",
      "1/1 [==============================] - 1s 661ms/step - loss: 0.0766 - accuracy: 0.7810 - val_loss: 0.5192 - val_accuracy: 0.7833\n",
      "Epoch 14/40\n",
      "1/1 [==============================] - 1s 656ms/step - loss: 0.0761 - accuracy: 0.7804 - val_loss: 0.5092 - val_accuracy: 0.7815\n",
      "Epoch 15/40\n",
      "1/1 [==============================] - 1s 737ms/step - loss: 0.0754 - accuracy: 0.7791 - val_loss: 0.4953 - val_accuracy: 0.7816\n",
      "Epoch 16/40\n",
      "1/1 [==============================] - 1s 651ms/step - loss: 0.0751 - accuracy: 0.7790 - val_loss: 0.4969 - val_accuracy: 0.7822\n",
      "Epoch 17/40\n",
      "1/1 [==============================] - 1s 654ms/step - loss: 0.0742 - accuracy: 0.7801 - val_loss: 0.4991 - val_accuracy: 0.7839\n",
      "Epoch 18/40\n",
      "1/1 [==============================] - 1s 741ms/step - loss: 0.0736 - accuracy: 0.7827 - val_loss: 0.4766 - val_accuracy: 0.7876\n",
      "Epoch 19/40\n",
      "1/1 [==============================] - 1s 719ms/step - loss: 0.0726 - accuracy: 0.7872 - val_loss: 0.4564 - val_accuracy: 0.7941\n",
      "Epoch 20/40\n",
      "1/1 [==============================] - 1s 673ms/step - loss: 0.0723 - accuracy: 0.7933 - val_loss: 0.4611 - val_accuracy: 0.7972\n",
      "Epoch 21/40\n",
      "1/1 [==============================] - 1s 517ms/step - loss: 0.0715 - accuracy: 0.7957 - val_loss: 0.4570 - val_accuracy: 0.7982\n",
      "Epoch 22/40\n",
      "1/1 [==============================] - 1s 524ms/step - loss: 0.0710 - accuracy: 0.7972 - val_loss: 0.4379 - val_accuracy: 0.8006\n",
      "Epoch 23/40\n",
      "1/1 [==============================] - 0s 441ms/step - loss: 0.0704 - accuracy: 0.8010 - val_loss: 0.4501 - val_accuracy: 0.7946\n",
      "Epoch 24/40\n",
      "1/1 [==============================] - 1s 558ms/step - loss: 0.0695 - accuracy: 0.7957 - val_loss: 0.4580 - val_accuracy: 0.7882\n",
      "Epoch 25/40\n",
      "1/1 [==============================] - 0s 414ms/step - loss: 0.0690 - accuracy: 0.7907 - val_loss: 0.4403 - val_accuracy: 0.7888\n",
      "Epoch 26/40\n",
      "1/1 [==============================] - 0s 424ms/step - loss: 0.0687 - accuracy: 0.7932 - val_loss: 0.4540 - val_accuracy: 0.7843\n",
      "Epoch 27/40\n",
      "1/1 [==============================] - 0s 392ms/step - loss: 0.0681 - accuracy: 0.7882 - val_loss: 0.4443 - val_accuracy: 0.7872\n",
      "Epoch 28/40\n",
      "1/1 [==============================] - 1s 534ms/step - loss: 0.0675 - accuracy: 0.7914 - val_loss: 0.4241 - val_accuracy: 0.7963\n",
      "Epoch 29/40\n",
      "1/1 [==============================] - 0s 406ms/step - loss: 0.0670 - accuracy: 0.8003 - val_loss: 0.4355 - val_accuracy: 0.7974\n",
      "Epoch 30/40\n",
      "1/1 [==============================] - 1s 509ms/step - loss: 0.0666 - accuracy: 0.7996 - val_loss: 0.4095 - val_accuracy: 0.8071\n",
      "Epoch 31/40\n",
      "1/1 [==============================] - 1s 527ms/step - loss: 0.0660 - accuracy: 0.8099 - val_loss: 0.4080 - val_accuracy: 0.8101\n",
      "Epoch 32/40\n",
      "1/1 [==============================] - 0s 469ms/step - loss: 0.0656 - accuracy: 0.8112 - val_loss: 0.4173 - val_accuracy: 0.8079\n",
      "Epoch 33/40\n",
      "1/1 [==============================] - 1s 527ms/step - loss: 0.0653 - accuracy: 0.8083 - val_loss: 0.3995 - val_accuracy: 0.8117\n",
      "Epoch 34/40\n",
      "1/1 [==============================] - 0s 491ms/step - loss: 0.0649 - accuracy: 0.8131 - val_loss: 0.4234 - val_accuracy: 0.8054\n",
      "Epoch 35/40\n",
      "1/1 [==============================] - 1s 593ms/step - loss: 0.0646 - accuracy: 0.8045 - val_loss: 0.3970 - val_accuracy: 0.8126\n",
      "Epoch 36/40\n",
      "1/1 [==============================] - 1s 561ms/step - loss: 0.0641 - accuracy: 0.8132 - val_loss: 0.4160 - val_accuracy: 0.8087\n",
      "Epoch 37/40\n",
      "1/1 [==============================] - 1s 765ms/step - loss: 0.0637 - accuracy: 0.8082 - val_loss: 0.3870 - val_accuracy: 0.8189\n",
      "Epoch 38/40\n",
      "1/1 [==============================] - 1s 578ms/step - loss: 0.0634 - accuracy: 0.8194 - val_loss: 0.4124 - val_accuracy: 0.8117\n",
      "Epoch 39/40\n",
      "1/1 [==============================] - 1s 575ms/step - loss: 0.0631 - accuracy: 0.8112 - val_loss: 0.3793 - val_accuracy: 0.8215\n",
      "Epoch 40/40\n",
      "1/1 [==============================] - 0s 494ms/step - loss: 0.0629 - accuracy: 0.8232 - val_loss: 0.4275 - val_accuracy: 0.8069\n"
     ]
    }
   ],
   "source": [
    "checkpoint_cb = keras.callbacks.ModelCheckpoint(\"final_rnn_best_model.h5\",\n",
    "                                               save_best_only = True)\n",
    "early_stopping_cb = keras.callbacks.EarlyStopping(patience = 10, restore_best_weights = True)\n",
    "\n",
    "models = []\n",
    "result = {}\n",
    "valid = True\n",
    "\n",
    "# 파일명 읽어오기\n",
    "data_path = os.path.join(\".\",\"final_data\")\n",
    "file_names = [\"10year.csv\"]\n",
    "\n",
    "# 하이퍼 파라미터 지정\n",
    "learning_rate = 1e-3\n",
    "max_epoch = 40\n",
    "\n",
    "for idx, file_name in enumerate(file_names):\n",
    "    # 해당 파일의 년도 추출\n",
    "    term = int(file_name.split(\"y\")[0])\n",
    "    \n",
    "    # 1년도 데이터는 의미가 없기 때문에 rnn 모델을 실시하지 않음\n",
    "    if term==1:\n",
    "        continue\n",
    "        \n",
    "    print(f\"{term}년도 데이터 훈련시작\")\n",
    "    \n",
    "    # 데이터 분할\n",
    "    X_train,X_valid,X_test, y_train,y_valid,y_test = train_test_valid(file_name,term, valid=True)\n",
    "    \n",
    "    # RNN 데이터 차원에 맞도록 조정\n",
    "    input_size = X_train.shape[1]//term\n",
    "    X_train = X_train.reshape(X_train.shape[0], term, input_size)\n",
    "    X_valid = X_valid.reshape(X_valid.shape[0],term, input_size)\n",
    "    X_test = X_test.reshape(X_test.shape[0],term,input_size)\n",
    "    \n",
    "    # RNN 모델 구현\n",
    "    model = keras.models.Sequential()\n",
    "    models.append(model)\n",
    "    \n",
    "    # 은닉층 추가\n",
    "    models[idx].add(keras.layers.SimpleRNN(512, activation = \"tanh\",return_sequences = True, input_shape =[None,52]))\n",
    "    models[idx].add(keras.layers.SimpleRNN(512, activation = \"tanh\",return_sequences = True, input_shape =[None,52]))\n",
    "    \n",
    "    # 출력층 추가\n",
    "    models[idx].add(keras.layers.Dense(1, activation = \"sigmoid\"))\n",
    "\n",
    "    # 모델 컴파일\n",
    "    models[idx].compile(loss=\"binary_crossentropy\", metrics=\"accuracy\", optimizer = keras.optimizers.Adam(lr=learning_rate))\n",
    "    \n",
    "    # 모델 훈련\n",
    "    history = models[idx].fit(x=X_train,y=y_train, epochs = max_epoch, \n",
    "                           validation_data = (X_valid,y_valid),\n",
    "                       class_weight = {0:0.1, 1:0.9}, batch_size = X_train.shape[0],validation_batch_size=X_valid.shape[0],\n",
    "                             callbacks=[checkpoint_cb, early_stopping_cb])\n",
    "    \n",
    "    # 모델 평가\n",
    "    a={i:j for i,j in zip([\"accuracy\", \"precision\", \"recall\", \"confusion\", \"roc\"],get_score(X_test,y_test,term,models[idx]))}\n",
    "    result[f\"{term}year\"]=a"
   ]
  },
  {
   "cell_type": "code",
   "execution_count": 185,
   "metadata": {
    "scrolled": true
   },
   "outputs": [
    {
     "data": {
      "text/plain": [
       "<matplotlib.axes._subplots.AxesSubplot at 0x259204690a0>"
      ]
     },
     "execution_count": 185,
     "metadata": {},
     "output_type": "execute_result"
    },
    {
     "data": {
      "image/png": "[encoded data removed]",
      "text/plain": [
       "<Figure size 576x360 with 1 Axes>"
      ]
     },
     "metadata": {
      "needs_background": "light"
     },
     "output_type": "display_data"
    }
   ],
   "source": [
    "pd.DataFrame(history.history).plot(figsize = (8,5))"
   ]
  },
  {
   "cell_type": "code",
   "execution_count": 186,
   "metadata": {},
   "outputs": [],
   "source": [
    "final_model = keras.models.load_model(\"final_rnn_best_model.h5\")"
   ]
  },
  {
   "cell_type": "code",
   "execution_count": 187,
   "metadata": {},
   "outputs": [
    {
     "name": "stdout",
     "output_type": "stream",
     "text": [
      "accuracy : 0.78\n",
      "precision : 0.34\n",
      "recall : 0.94\n",
      "roc : 0.85\n",
      "confusion-matrics\n",
      "[[2951  941]\n",
      " [  30  477]]\n"
     ]
    }
   ],
   "source": [
    "accuracy, precision, recall, matrix, roc = get_score(X_test,y_test,10,models[0])\n",
    "print(\"accuracy : {:.2}\".format(accuracy))\n",
    "print(\"precision : {:.2}\".format(precision))\n",
    "print(\"recall : {:.2}\".format(recall))\n",
    "print(\"roc : {:.2}\".format(roc))\n",
    "print(\"confusion-matrics\")\n",
    "print(matrix)"
   ]
  }
 ],
 "metadata": {
  "kernelspec": {
   "display_name": "Python 3",
   "language": "python",
   "name": "python3"
  },
  "language_info": {
   "codemirror_mode": {
    "name": "ipython",
    "version": 3
   },
   "file_extension": ".py",
   "mimetype": "text/x-python",
   "name": "python",
   "nbconvert_exporter": "python",
   "pygments_lexer": "ipython3",
   "version": "3.8.3"
  }
 },
 "nbformat": 4,
 "nbformat_minor": 4
}
