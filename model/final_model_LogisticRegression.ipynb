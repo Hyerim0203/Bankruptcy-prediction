{
 "cells": [
  {
   "cell_type": "markdown",
   "metadata": {},
   "source": [
    "# Logistic Regression을 이용한 부도예측"
   ]
  },
  {
   "cell_type": "code",
   "execution_count": 3,
   "metadata": {},
   "outputs": [],
   "source": [
    "import matplotlib.pyplot as plt\n",
    "import seaborn as sns\n",
    "\n",
    "import tensorflow as tf\n",
    "from tensorflow import keras\n",
    "\n",
    "import numpy as np\n",
    "import pandas as pd\n",
    "\n",
    "import os"
   ]
  },
  {
   "cell_type": "markdown",
   "metadata": {},
   "source": [
    "## 데이터 전처리 및 train, valid, test set 분리"
   ]
  },
  {
   "cell_type": "code",
   "execution_count": 4,
   "metadata": {},
   "outputs": [],
   "source": [
    "def train_test_valid(file_name, valid=True):\n",
    "    raw = pd.read_csv(f\"{data_path}/{file_name}\")\n",
    "    \n",
    "    # 데이터셋 분할\n",
    "    from sklearn.model_selection import train_test_split\n",
    "    X_train_valid, X_test, y_train_valid, y_test = train_test_split(raw.iloc[:,:-1],raw.iloc[:,-1],\n",
    "                                                       random_state = 1)\n",
    "    \n",
    "    if valid:\n",
    "        X_train,X_valid, y_train, y_valid = train_test_split(X_train_valid, y_train_valid, test_size = 0.2,\n",
    "                                                            random_state = 1)\n",
    "\n",
    "        # 표준화\n",
    "        from sklearn.preprocessing import StandardScaler, MinMaxScaler\n",
    "        scaler = MinMaxScaler().fit(X_train)\n",
    "        X_train = scaler.transform(X_train)\n",
    "        X_valid = scaler.transform(X_valid)\n",
    "        X_test = scaler.transform(X_test)\n",
    "\n",
    "        return X_train,X_valid,X_test,y_train,y_valid,y_test\n",
    "    else:\n",
    "         # 표준화\n",
    "        from sklearn.preprocessing import StandardScaler, MinMaxScaler\n",
    "        scaler = MinMaxScaler().fit(X_train_valid)\n",
    "        X_train_valid = scaler.transform(X_train_valid)\n",
    "        X_test = scaler.transform(X_test)\n",
    "        \n",
    "        return X_train_valid, X_test, y_train_valid, y_test"
   ]
  },
  {
   "cell_type": "code",
   "execution_count": 8,
   "metadata": {
    "scrolled": true
   },
   "outputs": [],
   "source": [
    "from sklearn.metrics import confusion_matrix, roc_auc_score, f1_score, recall_score, precision_score, accuracy_score\n",
    "def get_score(X_test, y_test, term,model):\n",
    "    predicted = model.predict(X_test).round()\n",
    "    accuracy = accuracy_score(y_test, predicted)\n",
    "    precision = precision_score(y_test,predicted)\n",
    "    recall = recall_score(y_test, predicted)\n",
    "    confusion = confusion_matrix(y_test, predicted)\n",
    "    roc = roc_auc_score(y_test, predicted)\n",
    "    return accuracy, precision, recall, confusion, roc"
   ]
  },
  {
   "cell_type": "markdown",
   "metadata": {},
   "source": [
    "## 년도별 accuracy, recall, precision, roc 비교"
   ]
  },
  {
   "cell_type": "code",
   "execution_count": 2,
   "metadata": {},
   "outputs": [],
   "source": [
    "from sklearn.linear_model import LogisticRegression"
   ]
  },
  {
   "cell_type": "code",
   "execution_count": 9,
   "metadata": {},
   "outputs": [
    {
     "name": "stdout",
     "output_type": "stream",
     "text": [
      "10년도 데이터 훈련시작\n"
     ]
    },
    {
     "name": "stderr",
     "output_type": "stream",
     "text": [
      "C:\\ProgramData\\Anaconda3\\lib\\site-packages\\sklearn\\linear_model\\_logistic.py:762: ConvergenceWarning: lbfgs failed to converge (status=1):\n",
      "STOP: TOTAL NO. of ITERATIONS REACHED LIMIT.\n",
      "\n",
      "Increase the number of iterations (max_iter) or scale the data as shown in:\n",
      "    https://scikit-learn.org/stable/modules/preprocessing.html\n",
      "Please also refer to the documentation for alternative solver options:\n",
      "    https://scikit-learn.org/stable/modules/linear_model.html#logistic-regression\n",
      "  n_iter_i = _check_optimize_result(\n"
     ]
    },
    {
     "name": "stdout",
     "output_type": "stream",
     "text": [
      "11년도 데이터 훈련시작\n"
     ]
    },
    {
     "name": "stderr",
     "output_type": "stream",
     "text": [
      "C:\\ProgramData\\Anaconda3\\lib\\site-packages\\sklearn\\linear_model\\_logistic.py:762: ConvergenceWarning: lbfgs failed to converge (status=1):\n",
      "STOP: TOTAL NO. of ITERATIONS REACHED LIMIT.\n",
      "\n",
      "Increase the number of iterations (max_iter) or scale the data as shown in:\n",
      "    https://scikit-learn.org/stable/modules/preprocessing.html\n",
      "Please also refer to the documentation for alternative solver options:\n",
      "    https://scikit-learn.org/stable/modules/linear_model.html#logistic-regression\n",
      "  n_iter_i = _check_optimize_result(\n"
     ]
    },
    {
     "name": "stdout",
     "output_type": "stream",
     "text": [
      "12년도 데이터 훈련시작\n"
     ]
    },
    {
     "name": "stderr",
     "output_type": "stream",
     "text": [
      "C:\\ProgramData\\Anaconda3\\lib\\site-packages\\sklearn\\linear_model\\_logistic.py:762: ConvergenceWarning: lbfgs failed to converge (status=1):\n",
      "STOP: TOTAL NO. of ITERATIONS REACHED LIMIT.\n",
      "\n",
      "Increase the number of iterations (max_iter) or scale the data as shown in:\n",
      "    https://scikit-learn.org/stable/modules/preprocessing.html\n",
      "Please also refer to the documentation for alternative solver options:\n",
      "    https://scikit-learn.org/stable/modules/linear_model.html#logistic-regression\n",
      "  n_iter_i = _check_optimize_result(\n"
     ]
    },
    {
     "name": "stdout",
     "output_type": "stream",
     "text": [
      "13년도 데이터 훈련시작\n"
     ]
    },
    {
     "name": "stderr",
     "output_type": "stream",
     "text": [
      "C:\\ProgramData\\Anaconda3\\lib\\site-packages\\sklearn\\linear_model\\_logistic.py:762: ConvergenceWarning: lbfgs failed to converge (status=1):\n",
      "STOP: TOTAL NO. of ITERATIONS REACHED LIMIT.\n",
      "\n",
      "Increase the number of iterations (max_iter) or scale the data as shown in:\n",
      "    https://scikit-learn.org/stable/modules/preprocessing.html\n",
      "Please also refer to the documentation for alternative solver options:\n",
      "    https://scikit-learn.org/stable/modules/linear_model.html#logistic-regression\n",
      "  n_iter_i = _check_optimize_result(\n"
     ]
    },
    {
     "name": "stdout",
     "output_type": "stream",
     "text": [
      "14년도 데이터 훈련시작\n"
     ]
    },
    {
     "name": "stderr",
     "output_type": "stream",
     "text": [
      "C:\\ProgramData\\Anaconda3\\lib\\site-packages\\sklearn\\linear_model\\_logistic.py:762: ConvergenceWarning: lbfgs failed to converge (status=1):\n",
      "STOP: TOTAL NO. of ITERATIONS REACHED LIMIT.\n",
      "\n",
      "Increase the number of iterations (max_iter) or scale the data as shown in:\n",
      "    https://scikit-learn.org/stable/modules/preprocessing.html\n",
      "Please also refer to the documentation for alternative solver options:\n",
      "    https://scikit-learn.org/stable/modules/linear_model.html#logistic-regression\n",
      "  n_iter_i = _check_optimize_result(\n"
     ]
    },
    {
     "name": "stdout",
     "output_type": "stream",
     "text": [
      "15년도 데이터 훈련시작\n"
     ]
    },
    {
     "name": "stderr",
     "output_type": "stream",
     "text": [
      "C:\\ProgramData\\Anaconda3\\lib\\site-packages\\sklearn\\linear_model\\_logistic.py:762: ConvergenceWarning: lbfgs failed to converge (status=1):\n",
      "STOP: TOTAL NO. of ITERATIONS REACHED LIMIT.\n",
      "\n",
      "Increase the number of iterations (max_iter) or scale the data as shown in:\n",
      "    https://scikit-learn.org/stable/modules/preprocessing.html\n",
      "Please also refer to the documentation for alternative solver options:\n",
      "    https://scikit-learn.org/stable/modules/linear_model.html#logistic-regression\n",
      "  n_iter_i = _check_optimize_result(\n"
     ]
    },
    {
     "name": "stdout",
     "output_type": "stream",
     "text": [
      "16년도 데이터 훈련시작\n"
     ]
    },
    {
     "name": "stderr",
     "output_type": "stream",
     "text": [
      "C:\\ProgramData\\Anaconda3\\lib\\site-packages\\sklearn\\linear_model\\_logistic.py:762: ConvergenceWarning: lbfgs failed to converge (status=1):\n",
      "STOP: TOTAL NO. of ITERATIONS REACHED LIMIT.\n",
      "\n",
      "Increase the number of iterations (max_iter) or scale the data as shown in:\n",
      "    https://scikit-learn.org/stable/modules/preprocessing.html\n",
      "Please also refer to the documentation for alternative solver options:\n",
      "    https://scikit-learn.org/stable/modules/linear_model.html#logistic-regression\n",
      "  n_iter_i = _check_optimize_result(\n"
     ]
    },
    {
     "name": "stdout",
     "output_type": "stream",
     "text": [
      "17년도 데이터 훈련시작\n"
     ]
    },
    {
     "name": "stderr",
     "output_type": "stream",
     "text": [
      "C:\\ProgramData\\Anaconda3\\lib\\site-packages\\sklearn\\linear_model\\_logistic.py:762: ConvergenceWarning: lbfgs failed to converge (status=1):\n",
      "STOP: TOTAL NO. of ITERATIONS REACHED LIMIT.\n",
      "\n",
      "Increase the number of iterations (max_iter) or scale the data as shown in:\n",
      "    https://scikit-learn.org/stable/modules/preprocessing.html\n",
      "Please also refer to the documentation for alternative solver options:\n",
      "    https://scikit-learn.org/stable/modules/linear_model.html#logistic-regression\n",
      "  n_iter_i = _check_optimize_result(\n"
     ]
    },
    {
     "name": "stdout",
     "output_type": "stream",
     "text": [
      "18년도 데이터 훈련시작\n"
     ]
    },
    {
     "name": "stderr",
     "output_type": "stream",
     "text": [
      "C:\\ProgramData\\Anaconda3\\lib\\site-packages\\sklearn\\linear_model\\_logistic.py:762: ConvergenceWarning: lbfgs failed to converge (status=1):\n",
      "STOP: TOTAL NO. of ITERATIONS REACHED LIMIT.\n",
      "\n",
      "Increase the number of iterations (max_iter) or scale the data as shown in:\n",
      "    https://scikit-learn.org/stable/modules/preprocessing.html\n",
      "Please also refer to the documentation for alternative solver options:\n",
      "    https://scikit-learn.org/stable/modules/linear_model.html#logistic-regression\n",
      "  n_iter_i = _check_optimize_result(\n"
     ]
    },
    {
     "name": "stdout",
     "output_type": "stream",
     "text": [
      "1년도 데이터 훈련시작\n"
     ]
    },
    {
     "name": "stderr",
     "output_type": "stream",
     "text": [
      "C:\\ProgramData\\Anaconda3\\lib\\site-packages\\sklearn\\linear_model\\_logistic.py:762: ConvergenceWarning: lbfgs failed to converge (status=1):\n",
      "STOP: TOTAL NO. of ITERATIONS REACHED LIMIT.\n",
      "\n",
      "Increase the number of iterations (max_iter) or scale the data as shown in:\n",
      "    https://scikit-learn.org/stable/modules/preprocessing.html\n",
      "Please also refer to the documentation for alternative solver options:\n",
      "    https://scikit-learn.org/stable/modules/linear_model.html#logistic-regression\n",
      "  n_iter_i = _check_optimize_result(\n"
     ]
    },
    {
     "name": "stdout",
     "output_type": "stream",
     "text": [
      "2년도 데이터 훈련시작\n"
     ]
    },
    {
     "name": "stderr",
     "output_type": "stream",
     "text": [
      "C:\\ProgramData\\Anaconda3\\lib\\site-packages\\sklearn\\linear_model\\_logistic.py:762: ConvergenceWarning: lbfgs failed to converge (status=1):\n",
      "STOP: TOTAL NO. of ITERATIONS REACHED LIMIT.\n",
      "\n",
      "Increase the number of iterations (max_iter) or scale the data as shown in:\n",
      "    https://scikit-learn.org/stable/modules/preprocessing.html\n",
      "Please also refer to the documentation for alternative solver options:\n",
      "    https://scikit-learn.org/stable/modules/linear_model.html#logistic-regression\n",
      "  n_iter_i = _check_optimize_result(\n"
     ]
    },
    {
     "name": "stdout",
     "output_type": "stream",
     "text": [
      "3년도 데이터 훈련시작\n"
     ]
    },
    {
     "name": "stderr",
     "output_type": "stream",
     "text": [
      "C:\\ProgramData\\Anaconda3\\lib\\site-packages\\sklearn\\linear_model\\_logistic.py:762: ConvergenceWarning: lbfgs failed to converge (status=1):\n",
      "STOP: TOTAL NO. of ITERATIONS REACHED LIMIT.\n",
      "\n",
      "Increase the number of iterations (max_iter) or scale the data as shown in:\n",
      "    https://scikit-learn.org/stable/modules/preprocessing.html\n",
      "Please also refer to the documentation for alternative solver options:\n",
      "    https://scikit-learn.org/stable/modules/linear_model.html#logistic-regression\n",
      "  n_iter_i = _check_optimize_result(\n"
     ]
    },
    {
     "name": "stdout",
     "output_type": "stream",
     "text": [
      "4년도 데이터 훈련시작\n"
     ]
    },
    {
     "name": "stderr",
     "output_type": "stream",
     "text": [
      "C:\\ProgramData\\Anaconda3\\lib\\site-packages\\sklearn\\linear_model\\_logistic.py:762: ConvergenceWarning: lbfgs failed to converge (status=1):\n",
      "STOP: TOTAL NO. of ITERATIONS REACHED LIMIT.\n",
      "\n",
      "Increase the number of iterations (max_iter) or scale the data as shown in:\n",
      "    https://scikit-learn.org/stable/modules/preprocessing.html\n",
      "Please also refer to the documentation for alternative solver options:\n",
      "    https://scikit-learn.org/stable/modules/linear_model.html#logistic-regression\n",
      "  n_iter_i = _check_optimize_result(\n"
     ]
    },
    {
     "name": "stdout",
     "output_type": "stream",
     "text": [
      "5년도 데이터 훈련시작\n"
     ]
    },
    {
     "name": "stderr",
     "output_type": "stream",
     "text": [
      "C:\\ProgramData\\Anaconda3\\lib\\site-packages\\sklearn\\linear_model\\_logistic.py:762: ConvergenceWarning: lbfgs failed to converge (status=1):\n",
      "STOP: TOTAL NO. of ITERATIONS REACHED LIMIT.\n",
      "\n",
      "Increase the number of iterations (max_iter) or scale the data as shown in:\n",
      "    https://scikit-learn.org/stable/modules/preprocessing.html\n",
      "Please also refer to the documentation for alternative solver options:\n",
      "    https://scikit-learn.org/stable/modules/linear_model.html#logistic-regression\n",
      "  n_iter_i = _check_optimize_result(\n"
     ]
    },
    {
     "name": "stdout",
     "output_type": "stream",
     "text": [
      "6년도 데이터 훈련시작\n"
     ]
    },
    {
     "name": "stderr",
     "output_type": "stream",
     "text": [
      "C:\\ProgramData\\Anaconda3\\lib\\site-packages\\sklearn\\linear_model\\_logistic.py:762: ConvergenceWarning: lbfgs failed to converge (status=1):\n",
      "STOP: TOTAL NO. of ITERATIONS REACHED LIMIT.\n",
      "\n",
      "Increase the number of iterations (max_iter) or scale the data as shown in:\n",
      "    https://scikit-learn.org/stable/modules/preprocessing.html\n",
      "Please also refer to the documentation for alternative solver options:\n",
      "    https://scikit-learn.org/stable/modules/linear_model.html#logistic-regression\n",
      "  n_iter_i = _check_optimize_result(\n"
     ]
    },
    {
     "name": "stdout",
     "output_type": "stream",
     "text": [
      "7년도 데이터 훈련시작\n"
     ]
    },
    {
     "name": "stderr",
     "output_type": "stream",
     "text": [
      "C:\\ProgramData\\Anaconda3\\lib\\site-packages\\sklearn\\linear_model\\_logistic.py:762: ConvergenceWarning: lbfgs failed to converge (status=1):\n",
      "STOP: TOTAL NO. of ITERATIONS REACHED LIMIT.\n",
      "\n",
      "Increase the number of iterations (max_iter) or scale the data as shown in:\n",
      "    https://scikit-learn.org/stable/modules/preprocessing.html\n",
      "Please also refer to the documentation for alternative solver options:\n",
      "    https://scikit-learn.org/stable/modules/linear_model.html#logistic-regression\n",
      "  n_iter_i = _check_optimize_result(\n"
     ]
    },
    {
     "name": "stdout",
     "output_type": "stream",
     "text": [
      "8년도 데이터 훈련시작\n"
     ]
    },
    {
     "name": "stderr",
     "output_type": "stream",
     "text": [
      "C:\\ProgramData\\Anaconda3\\lib\\site-packages\\sklearn\\linear_model\\_logistic.py:762: ConvergenceWarning: lbfgs failed to converge (status=1):\n",
      "STOP: TOTAL NO. of ITERATIONS REACHED LIMIT.\n",
      "\n",
      "Increase the number of iterations (max_iter) or scale the data as shown in:\n",
      "    https://scikit-learn.org/stable/modules/preprocessing.html\n",
      "Please also refer to the documentation for alternative solver options:\n",
      "    https://scikit-learn.org/stable/modules/linear_model.html#logistic-regression\n",
      "  n_iter_i = _check_optimize_result(\n"
     ]
    },
    {
     "name": "stdout",
     "output_type": "stream",
     "text": [
      "9년도 데이터 훈련시작\n"
     ]
    },
    {
     "name": "stderr",
     "output_type": "stream",
     "text": [
      "C:\\ProgramData\\Anaconda3\\lib\\site-packages\\sklearn\\linear_model\\_logistic.py:762: ConvergenceWarning: lbfgs failed to converge (status=1):\n",
      "STOP: TOTAL NO. of ITERATIONS REACHED LIMIT.\n",
      "\n",
      "Increase the number of iterations (max_iter) or scale the data as shown in:\n",
      "    https://scikit-learn.org/stable/modules/preprocessing.html\n",
      "Please also refer to the documentation for alternative solver options:\n",
      "    https://scikit-learn.org/stable/modules/linear_model.html#logistic-regression\n",
      "  n_iter_i = _check_optimize_result(\n"
     ]
    }
   ],
   "source": [
    "models = []\n",
    "result = {}\n",
    "valid = True\n",
    "\n",
    "# 파일명 읽어오기\n",
    "data_path = os.path.join(\".\",\"final_data\")\n",
    "file_names = os.listdir(data_path)\n",
    "\n",
    "# 하이퍼 파라미터 지정\n",
    "learning_rate = 1e-4\n",
    "max_epoch = 50\n",
    "\n",
    "for idx, file_name in enumerate(file_names):\n",
    "    # 해당 파일의 년도 추출\n",
    "    term = int(file_name.split(\"y\")[0])\n",
    "    print(f\"{term}년도 데이터 훈련시작\")\n",
    "    \n",
    "    # 데이터 분할\n",
    "    X_train,X_test, y_train,y_test = train_test_valid(file_name, valid=False)\n",
    "    \n",
    "    # 모델 구현\n",
    "    models.append(LogisticRegression())\n",
    "    models[idx].fit(X_train,y_train)\n",
    "    \n",
    "    # 모델 평가\n",
    "    a={i:j for i,j in zip([\"accuracy\", \"precision\", \"recall\", \"confusion\", \"roc\"],get_score(X_test,y_test,term,models[idx]))}\n",
    "    result[f\"{term}year\"]=a"
   ]
  },
  {
   "cell_type": "code",
   "execution_count": 10,
   "metadata": {
    "scrolled": false
   },
   "outputs": [
    {
     "data": {
      "text/html": [
       "<div>\n",
       "<style scoped>\n",
       "    .dataframe tbody tr th:only-of-type {\n",
       "        vertical-align: middle;\n",
       "    }\n",
       "\n",
       "    .dataframe tbody tr th {\n",
       "        vertical-align: top;\n",
       "    }\n",
       "\n",
       "    .dataframe thead th {\n",
       "        text-align: right;\n",
       "    }\n",
       "</style>\n",
       "<table border=\"1\" class=\"dataframe\">\n",
       "  <thead>\n",
       "    <tr style=\"text-align: right;\">\n",
       "      <th></th>\n",
       "      <th>10year</th>\n",
       "      <th>11year</th>\n",
       "      <th>12year</th>\n",
       "      <th>13year</th>\n",
       "      <th>14year</th>\n",
       "      <th>15year</th>\n",
       "      <th>16year</th>\n",
       "      <th>17year</th>\n",
       "      <th>18year</th>\n",
       "      <th>1year</th>\n",
       "      <th>2year</th>\n",
       "      <th>3year</th>\n",
       "      <th>4year</th>\n",
       "      <th>5year</th>\n",
       "      <th>6year</th>\n",
       "      <th>7year</th>\n",
       "      <th>8year</th>\n",
       "      <th>9year</th>\n",
       "    </tr>\n",
       "  </thead>\n",
       "  <tbody>\n",
       "    <tr>\n",
       "      <th>accuracy</th>\n",
       "      <td>0.910529</td>\n",
       "      <td>0.905754</td>\n",
       "      <td>0.902993</td>\n",
       "      <td>0.913675</td>\n",
       "      <td>0.906005</td>\n",
       "      <td>0.917168</td>\n",
       "      <td>0.901925</td>\n",
       "      <td>0.902235</td>\n",
       "      <td>0.905983</td>\n",
       "      <td>0.901035</td>\n",
       "      <td>0.907987</td>\n",
       "      <td>0.907444</td>\n",
       "      <td>0.907132</td>\n",
       "      <td>0.909435</td>\n",
       "      <td>0.907899</td>\n",
       "      <td>0.91038</td>\n",
       "      <td>0.903767</td>\n",
       "      <td>0.912442</td>\n",
       "    </tr>\n",
       "    <tr>\n",
       "      <th>precision</th>\n",
       "      <td>0.655172</td>\n",
       "      <td>0.648276</td>\n",
       "      <td>0.628571</td>\n",
       "      <td>0.640449</td>\n",
       "      <td>0.609929</td>\n",
       "      <td>0.657407</td>\n",
       "      <td>0.533333</td>\n",
       "      <td>0.566667</td>\n",
       "      <td>0.5625</td>\n",
       "      <td>0.665385</td>\n",
       "      <td>0.669276</td>\n",
       "      <td>0.661795</td>\n",
       "      <td>0.647059</td>\n",
       "      <td>0.650442</td>\n",
       "      <td>0.682819</td>\n",
       "      <td>0.665012</td>\n",
       "      <td>0.6375</td>\n",
       "      <td>0.649701</td>\n",
       "    </tr>\n",
       "    <tr>\n",
       "      <th>recall</th>\n",
       "      <td>0.489461</td>\n",
       "      <td>0.48329</td>\n",
       "      <td>0.463855</td>\n",
       "      <td>0.452381</td>\n",
       "      <td>0.407583</td>\n",
       "      <td>0.449367</td>\n",
       "      <td>0.357143</td>\n",
       "      <td>0.435897</td>\n",
       "      <td>0.486486</td>\n",
       "      <td>0.351269</td>\n",
       "      <td>0.389522</td>\n",
       "      <td>0.389435</td>\n",
       "      <td>0.409574</td>\n",
       "      <td>0.428571</td>\n",
       "      <td>0.456554</td>\n",
       "      <td>0.455782</td>\n",
       "      <td>0.461957</td>\n",
       "      <td>0.470716</td>\n",
       "    </tr>\n",
       "    <tr>\n",
       "      <th>confusion</th>\n",
       "      <td>[[3129, 110], [218, 209]]</td>\n",
       "      <td>[[2724, 102], [201, 188]]</td>\n",
       "      <td>[[2350, 91], [178, 154]]</td>\n",
       "      <td>[[2024, 64], [138, 114]]</td>\n",
       "      <td>[[1649, 55], [125, 86]]</td>\n",
       "      <td>[[1302, 37], [87, 71]]</td>\n",
       "      <td>[[944, 35], [72, 40]]</td>\n",
       "      <td>[[612, 26], [44, 34]]</td>\n",
       "      <td>[[300, 14], [19, 18]]</td>\n",
       "      <td>[[7056, 174], [639, 346]]</td>\n",
       "      <td>[[6615, 169], [536, 342]]</td>\n",
       "      <td>[[6144, 162], [497, 317]]</td>\n",
       "      <td>[[5670, 168], [444, 308]]</td>\n",
       "      <td>[[5229, 158], [392, 294]]</td>\n",
       "      <td>[[4747, 144], [369, 310]]</td>\n",
       "      <td>[[4354, 135], [320, 268]]</td>\n",
       "      <td>[[3896, 145], [297, 255]]</td>\n",
       "      <td>[[3545, 117], [244, 217]]</td>\n",
       "    </tr>\n",
       "    <tr>\n",
       "      <th>roc</th>\n",
       "      <td>0.72775</td>\n",
       "      <td>0.723599</td>\n",
       "      <td>0.713288</td>\n",
       "      <td>0.710865</td>\n",
       "      <td>0.687653</td>\n",
       "      <td>0.710867</td>\n",
       "      <td>0.660696</td>\n",
       "      <td>0.697573</td>\n",
       "      <td>0.72095</td>\n",
       "      <td>0.663601</td>\n",
       "      <td>0.682305</td>\n",
       "      <td>0.681873</td>\n",
       "      <td>0.690399</td>\n",
       "      <td>0.699621</td>\n",
       "      <td>0.713556</td>\n",
       "      <td>0.712854</td>\n",
       "      <td>0.713037</td>\n",
       "      <td>0.719383</td>\n",
       "    </tr>\n",
       "  </tbody>\n",
       "</table>\n",
       "</div>"
      ],
      "text/plain": [
       "                              10year                     11year  \\\n",
       "accuracy                    0.910529                   0.905754   \n",
       "precision                   0.655172                   0.648276   \n",
       "recall                      0.489461                    0.48329   \n",
       "confusion  [[3129, 110], [218, 209]]  [[2724, 102], [201, 188]]   \n",
       "roc                          0.72775                   0.723599   \n",
       "\n",
       "                             12year                    13year  \\\n",
       "accuracy                   0.902993                  0.913675   \n",
       "precision                  0.628571                  0.640449   \n",
       "recall                     0.463855                  0.452381   \n",
       "confusion  [[2350, 91], [178, 154]]  [[2024, 64], [138, 114]]   \n",
       "roc                        0.713288                  0.710865   \n",
       "\n",
       "                            14year                  15year  \\\n",
       "accuracy                  0.906005                0.917168   \n",
       "precision                 0.609929                0.657407   \n",
       "recall                    0.407583                0.449367   \n",
       "confusion  [[1649, 55], [125, 86]]  [[1302, 37], [87, 71]]   \n",
       "roc                       0.687653                0.710867   \n",
       "\n",
       "                          16year                 17year  \\\n",
       "accuracy                0.901925               0.902235   \n",
       "precision               0.533333               0.566667   \n",
       "recall                  0.357143               0.435897   \n",
       "confusion  [[944, 35], [72, 40]]  [[612, 26], [44, 34]]   \n",
       "roc                     0.660696               0.697573   \n",
       "\n",
       "                          18year                      1year  \\\n",
       "accuracy                0.905983                   0.901035   \n",
       "precision                 0.5625                   0.665385   \n",
       "recall                  0.486486                   0.351269   \n",
       "confusion  [[300, 14], [19, 18]]  [[7056, 174], [639, 346]]   \n",
       "roc                      0.72095                   0.663601   \n",
       "\n",
       "                               2year                      3year  \\\n",
       "accuracy                    0.907987                   0.907444   \n",
       "precision                   0.669276                   0.661795   \n",
       "recall                      0.389522                   0.389435   \n",
       "confusion  [[6615, 169], [536, 342]]  [[6144, 162], [497, 317]]   \n",
       "roc                         0.682305                   0.681873   \n",
       "\n",
       "                               4year                      5year  \\\n",
       "accuracy                    0.907132                   0.909435   \n",
       "precision                   0.647059                   0.650442   \n",
       "recall                      0.409574                   0.428571   \n",
       "confusion  [[5670, 168], [444, 308]]  [[5229, 158], [392, 294]]   \n",
       "roc                         0.690399                   0.699621   \n",
       "\n",
       "                               6year                      7year  \\\n",
       "accuracy                    0.907899                    0.91038   \n",
       "precision                   0.682819                   0.665012   \n",
       "recall                      0.456554                   0.455782   \n",
       "confusion  [[4747, 144], [369, 310]]  [[4354, 135], [320, 268]]   \n",
       "roc                         0.713556                   0.712854   \n",
       "\n",
       "                               8year                      9year  \n",
       "accuracy                    0.903767                   0.912442  \n",
       "precision                     0.6375                   0.649701  \n",
       "recall                      0.461957                   0.470716  \n",
       "confusion  [[3896, 145], [297, 255]]  [[3545, 117], [244, 217]]  \n",
       "roc                         0.713037                   0.719383  "
      ]
     },
     "execution_count": 10,
     "metadata": {},
     "output_type": "execute_result"
    }
   ],
   "source": [
    "pd.DataFrame(result)"
   ]
  },
  {
   "cell_type": "code",
   "execution_count": 11,
   "metadata": {},
   "outputs": [
    {
     "data": {
      "image/png": "[encoded data removed]",
      "text/plain": [
       "<Figure size 432x288 with 1 Axes>"
      ]
     },
     "metadata": {
      "needs_background": "light"
     },
     "output_type": "display_data"
    }
   ],
   "source": [
    "a=[f\"{i}year\" for i in range(1,19)]\n",
    "result_df = pd.DataFrame(result)[a]\n",
    "\n",
    "result_df.T.plot()\n",
    "plt.grid()"
   ]
  },
  {
   "cell_type": "markdown",
   "metadata": {},
   "source": [
    "- 10개년의 recall이 가장 좋음\n",
    "- 전반적으로 precision, accuracy에 비해 recall이 낮음 -> 다수의 class인 0으로 예측하는 경향성"
   ]
  },
  {
   "cell_type": "markdown",
   "metadata": {},
   "source": [
    "## 10개년으로 부도위험 예측"
   ]
  },
  {
   "cell_type": "code",
   "execution_count": 12,
   "metadata": {},
   "outputs": [],
   "source": [
    "best_term = 10 # 가장 성능이 좋은 term\n",
    "X_train, X_test, y_train,y_test = train_test_valid(f\"{best_term}year.csv\",valid=False)"
   ]
  },
  {
   "cell_type": "markdown",
   "metadata": {},
   "source": [
    "### 부도 위험이 높은 class 데이터 oversampling"
   ]
  },
  {
   "cell_type": "code",
   "execution_count": 13,
   "metadata": {},
   "outputs": [
    {
     "data": {
      "text/plain": [
       "1242"
      ]
     },
     "execution_count": 13,
     "metadata": {},
     "output_type": "execute_result"
    }
   ],
   "source": [
    "(y_train==1).sum()"
   ]
  },
  {
   "cell_type": "code",
   "execution_count": 14,
   "metadata": {},
   "outputs": [
    {
     "data": {
      "text/plain": [
       "array([0, 0, 1, ..., 0, 0, 0], dtype=int64)"
      ]
     },
     "execution_count": 14,
     "metadata": {},
     "output_type": "execute_result"
    }
   ],
   "source": [
    "y_train.values"
   ]
  },
  {
   "cell_type": "code",
   "execution_count": 15,
   "metadata": {
    "scrolled": true
   },
   "outputs": [],
   "source": [
    "X_train = np.concatenate([X_train,X_train[y_train==1]])\n",
    "y_train = np.concatenate([y_train.values, np.ones((y_train==1).sum())])"
   ]
  },
  {
   "cell_type": "markdown",
   "metadata": {},
   "source": [
    "### 모델 훈련"
   ]
  },
  {
   "cell_type": "code",
   "execution_count": 16,
   "metadata": {},
   "outputs": [
    {
     "name": "stderr",
     "output_type": "stream",
     "text": [
      "C:\\ProgramData\\Anaconda3\\lib\\site-packages\\sklearn\\linear_model\\_logistic.py:762: ConvergenceWarning: lbfgs failed to converge (status=1):\n",
      "STOP: TOTAL NO. of ITERATIONS REACHED LIMIT.\n",
      "\n",
      "Increase the number of iterations (max_iter) or scale the data as shown in:\n",
      "    https://scikit-learn.org/stable/modules/preprocessing.html\n",
      "Please also refer to the documentation for alternative solver options:\n",
      "    https://scikit-learn.org/stable/modules/linear_model.html#logistic-regression\n",
      "  n_iter_i = _check_optimize_result(\n"
     ]
    },
    {
     "data": {
      "text/plain": [
       "LogisticRegression()"
      ]
     },
     "execution_count": 16,
     "metadata": {},
     "output_type": "execute_result"
    }
   ],
   "source": [
    "best_lr = LogisticRegression()\n",
    "best_lr.fit(X_train,y_train)"
   ]
  },
  {
   "cell_type": "markdown",
   "metadata": {},
   "source": [
    "### 평가"
   ]
  },
  {
   "cell_type": "code",
   "execution_count": 17,
   "metadata": {
    "scrolled": true
   },
   "outputs": [
    {
     "name": "stdout",
     "output_type": "stream",
     "text": [
      "accuracy : 0.9\n",
      "precision : 0.57\n",
      "recall : 0.64\n",
      "roc : 0.79\n",
      "confusion-matrics\n",
      "[[3033  206]\n",
      " [ 152  275]]\n"
     ]
    }
   ],
   "source": [
    "accuracy, precision, recall, matrix, roc = get_score(X_test,y_test,best_term,best_lr)\n",
    "print(\"accuracy : {:.2}\".format(accuracy))\n",
    "print(\"precision : {:.2}\".format(precision))\n",
    "print(\"recall : {:.2}\".format(recall))\n",
    "print(\"roc : {:.2}\".format(roc))\n",
    "print(\"confusion-matrics\")\n",
    "print(matrix)"
   ]
  }
 ],
 "metadata": {
  "kernelspec": {
   "display_name": "Python 3",
   "language": "python",
   "name": "python3"
  },
  "language_info": {
   "codemirror_mode": {
    "name": "ipython",
    "version": 3
   },
   "file_extension": ".py",
   "mimetype": "text/x-python",
   "name": "python",
   "nbconvert_exporter": "python",
   "pygments_lexer": "ipython3",
   "version": "3.8.3"
  }
 },
 "nbformat": 4,
 "nbformat_minor": 4
}
